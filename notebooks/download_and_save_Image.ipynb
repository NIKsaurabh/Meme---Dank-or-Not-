{
  "nbformat": 4,
  "nbformat_minor": 0,
  "metadata": {
    "colab": {
      "name": "Dank_or_Not_Image.ipynb",
      "provenance": [],
      "collapsed_sections": []
    },
    "kernelspec": {
      "name": "python3",
      "display_name": "Python 3"
    },
    "language_info": {
      "name": "python"
    }
  },
  "cells": [
    {
      "cell_type": "markdown",
      "metadata": {
        "id": "kRj-Ew1MRMDA"
      },
      "source": [
        "In this notebook I am going to download all dank images and approximately same number of non-dank images, because our original dataset is highly imbalanced thats why here I am taking approximately same number of dand and non-dank image to balance the data."
      ]
    },
    {
      "cell_type": "code",
      "metadata": {
        "id": "5AzKYitGyrvq"
      },
      "source": [
        "#importing libraries\n",
        "import pandas as pd\n",
        "import numpy as np\n",
        "import os\n",
        "import urllib.request\n",
        "from tqdm import tqdm"
      ],
      "execution_count": 1,
      "outputs": []
    },
    {
      "cell_type": "code",
      "metadata": {
        "colab": {
          "base_uri": "https://localhost:8080/"
        },
        "id": "q1C_X6ZqzIRx",
        "outputId": "fd541dfb-62e6-4fb9-fcec-27fd040c074a"
      },
      "source": [
        "from google.colab import drive\n",
        "drive.mount('/content/drive')"
      ],
      "execution_count": 2,
      "outputs": [
        {
          "output_type": "stream",
          "text": [
            "Mounted at /content/drive\n"
          ],
          "name": "stdout"
        }
      ]
    },
    {
      "cell_type": "code",
      "metadata": {
        "id": "uLeFCJmJzQza"
      },
      "source": [
        "#reading the dataset which contains both dank_or_not and url columns\n",
        "df = pd.read_csv('/content/drive/MyDrive/Applied_ai/df_dankornot.csv')"
      ],
      "execution_count": 3,
      "outputs": []
    },
    {
      "cell_type": "code",
      "metadata": {
        "colab": {
          "base_uri": "https://localhost:8080/"
        },
        "id": "3A7J4jq6zn3u",
        "outputId": "3e83a160-980d-43ab-84e5-134b6ee0e050"
      },
      "source": [
        "df['dank_or_not'].value_counts()"
      ],
      "execution_count": 4,
      "outputs": [
        {
          "output_type": "execute_result",
          "data": {
            "text/plain": [
              "0    81474\n",
              "1     2434\n",
              "Name: dank_or_not, dtype: int64"
            ]
          },
          "metadata": {
            "tags": []
          },
          "execution_count": 4
        }
      ]
    },
    {
      "cell_type": "markdown",
      "metadata": {
        "id": "nuTBqkZzSBBB"
      },
      "source": [
        "There are 2434 dank data."
      ]
    },
    {
      "cell_type": "code",
      "metadata": {
        "id": "qufmwhqn1FHD"
      },
      "source": [
        "#getting only dank data\n",
        "df_dank = df[df['dank_or_not']==1][['url','dank_or_not']]"
      ],
      "execution_count": 5,
      "outputs": []
    },
    {
      "cell_type": "code",
      "metadata": {
        "id": "TXvaq2_42tSN"
      },
      "source": [
        "#selecting 2570 data from non-dank data randomly\n",
        "df_non_dank = df[df['dank_or_not']==0][['url','dank_or_not']].sample(n = 2570)"
      ],
      "execution_count": 6,
      "outputs": []
    },
    {
      "cell_type": "code",
      "metadata": {
        "id": "s7GvrSQN2xe9"
      },
      "source": [
        "#concatenating selected dank and non-dank data\n",
        "df_img = pd.concat([df_dank, df_non_dank], ignore_index=True)"
      ],
      "execution_count": 7,
      "outputs": []
    },
    {
      "cell_type": "code",
      "metadata": {
        "id": "vz_5S_EoCUQz"
      },
      "source": [
        "#making a directory with name meme_images to save the images, if the directory is present then first delete it\n",
        "!rm -rf '/content/drive/MyDrive/Applied_ai/meme_images'\n",
        "os.mkdir('/content/drive/MyDrive/Applied_ai/meme_images')"
      ],
      "execution_count": 8,
      "outputs": []
    },
    {
      "cell_type": "code",
      "metadata": {
        "id": "DUee69VY7L7x",
        "outputId": "9f21cc68-52cd-41a6-a18a-c05dee37e021",
        "colab": {
          "base_uri": "https://localhost:8080/"
        }
      },
      "source": [
        "#downloading and saving images\n",
        "for i in tqdm(df_img['url']):\n",
        "  try:\n",
        "    urllib.request.urlretrieve(i, '/content/drive/MyDrive/Applied_ai/meme_images/' + i.split(\"/\")[-1].split(\".\")[0] + \".png\")\n",
        "  except:\n",
        "    df_img.drop(df_img.index[df_img['url']==i][0], inplace=True)\n"
      ],
      "execution_count": 9,
      "outputs": [
        {
          "output_type": "stream",
          "text": [
            "100%|██████████| 5004/5004 [11:55<00:00,  7.00it/s]\n"
          ],
          "name": "stderr"
        }
      ]
    },
    {
      "cell_type": "code",
      "metadata": {
        "id": "769SD7YPKcAS"
      },
      "source": [
        "#saving the final image dataset\n",
        "df_img.reset_index(drop=True).to_csv('df_img.csv', index=False)"
      ],
      "execution_count": 15,
      "outputs": []
    },
    {
      "cell_type": "code",
      "metadata": {
        "id": "cGsFDhy4QSXi"
      },
      "source": [
        ""
      ],
      "execution_count": null,
      "outputs": []
    }
  ]
}