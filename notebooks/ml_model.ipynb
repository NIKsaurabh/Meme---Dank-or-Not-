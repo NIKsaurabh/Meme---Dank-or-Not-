{
  "nbformat": 4,
  "nbformat_minor": 5,
  "metadata": {
    "kernelspec": {
      "display_name": "Python 3",
      "language": "python",
      "name": "python3"
    },
    "language_info": {
      "codemirror_mode": {
        "name": "ipython",
        "version": 3
      },
      "file_extension": ".py",
      "mimetype": "text/x-python",
      "name": "python",
      "nbconvert_exporter": "python",
      "pygments_lexer": "ipython3",
      "version": "3.7.7"
    },
    "colab": {
      "name": "Dank_or_Not.ipynb",
      "provenance": [],
      "collapsed_sections": []
    }
  },
  "cells": [
    {
      "cell_type": "markdown",
      "metadata": {
        "id": "HK46F9FZhTfM"
      },
      "source": [
        "In this notebook I am going to use machine learning algorithm for model creation.<br>\n",
        "I am going to use two machine learning algorithms:\n",
        "1. Random Forest Classifier\n",
        "2. Gradient Boosting Classifier"
      ],
      "id": "HK46F9FZhTfM"
    },
    {
      "cell_type": "code",
      "metadata": {
        "id": "excellent-maria"
      },
      "source": [
        "import pandas as pd\n",
        "import numpy as np\n",
        "import matplotlib.pyplot as plt\n",
        "from matplotlib import pyplot\n",
        "import seaborn as sns\n",
        "import warnings\n",
        "warnings.filterwarnings(\"ignore\")"
      ],
      "id": "excellent-maria",
      "execution_count": 54,
      "outputs": []
    },
    {
      "cell_type": "code",
      "metadata": {
        "id": "PQOwAwSdVS5t",
        "colab": {
          "base_uri": "https://localhost:8080/"
        },
        "outputId": "3679087a-7f1f-44c5-9e5d-cfe03eea921d"
      },
      "source": [
        "from google.colab import drive\n",
        "drive.mount('/content/drive')"
      ],
      "id": "PQOwAwSdVS5t",
      "execution_count": 2,
      "outputs": [
        {
          "output_type": "stream",
          "text": [
            "Mounted at /content/drive\n"
          ],
          "name": "stdout"
        }
      ]
    },
    {
      "cell_type": "markdown",
      "metadata": {
        "id": "Z5JmeHQ-TIzF"
      },
      "source": [
        "### Feature selection using Random Forest and Gradient Boosting\n",
        "Here I am going to select important features from the dataset for classification with the help of Random Forest and Gradient Boosting classification algorithms. I wll train a model using these algorithms and get feature importance score for each features and according to feature importance score I will select features"
      ],
      "id": "Z5JmeHQ-TIzF"
    },
    {
      "cell_type": "code",
      "metadata": {
        "id": "CfrIfLkIE2HG"
      },
      "source": [
        "df = pd.read_csv(\"/content/drive/MyDrive/Applied_ai/df_clean.csv\")"
      ],
      "id": "CfrIfLkIE2HG",
      "execution_count": 6,
      "outputs": []
    },
    {
      "cell_type": "code",
      "metadata": {
        "id": "0HqHsNm1M6RQ"
      },
      "source": [
        "'''\n",
        "during object detection in image I have exteacted 3 objects with their respective probabilities. The probability values\n",
        "are stored in a list and list is in the form of string. SO I am going to convert them back to list and will make three\n",
        "different features for these probabilities.\n",
        "'''\n",
        "\n",
        "#converting lists of string type to list\n",
        "from ast import literal_eval\n",
        "df['img_feature_pred'] = df['img_feature_pred'].apply(literal_eval)"
      ],
      "id": "0HqHsNm1M6RQ",
      "execution_count": 7,
      "outputs": []
    },
    {
      "cell_type": "code",
      "metadata": {
        "id": "6RfS1ApvNIsd"
      },
      "source": [
        "#getting probabitity values in three different lists to make them as seperate features\n",
        "img_feature_pred_1 = []\n",
        "img_feature_pred_2 = []\n",
        "img_feature_pred_3 = []\n",
        "for i in df['img_feature_pred']:\n",
        "  img_feature_pred_1.append(i[0])\n",
        "  img_feature_pred_2.append(i[1])\n",
        "  img_feature_pred_3.append(i[2])"
      ],
      "id": "6RfS1ApvNIsd",
      "execution_count": 8,
      "outputs": []
    },
    {
      "cell_type": "code",
      "metadata": {
        "id": "myKXsZ6rNdGa"
      },
      "source": [
        "#creating features for probability values\n",
        "df['img_feature_pred_1'] = img_feature_pred_1\n",
        "df['img_feature_pred_2'] = img_feature_pred_2\n",
        "df['img_feature_pred_3'] = img_feature_pred_3"
      ],
      "id": "myKXsZ6rNdGa",
      "execution_count": 9,
      "outputs": []
    },
    {
      "cell_type": "markdown",
      "metadata": {
        "id": "fviJqt6XV0Fs"
      },
      "source": [
        "Since our project is to predict the dankness of the meme and it will be done before posting the meme on social networking sites. So, before posting data such as num_comments, upvote_ratio, score etc will not be available for the post and also it will be good if we predict the dankness of memes irrespective of subscribers count on the page. So, I am going to drop those features."
      ],
      "id": "fviJqt6XV0Fs"
    },
    {
      "cell_type": "code",
      "metadata": {
        "id": "cCBvL5j1NoGL"
      },
      "source": [
        "#dropping features as discussed above\n",
        "df.drop(['img_feature_pred','text','is_original_content','num_comments','upvote_ratio','score','subreddit_subscribers'], axis=1, inplace=True)"
      ],
      "id": "cCBvL5j1NoGL",
      "execution_count": 10,
      "outputs": []
    },
    {
      "cell_type": "code",
      "metadata": {
        "id": "aX25UEesPZcQ"
      },
      "source": [
        "#seperating dependent and independent features\n",
        "y = df['dank_or_not']\n",
        "X = df.drop(['dank_or_not'], axis=1)"
      ],
      "id": "aX25UEesPZcQ",
      "execution_count": 11,
      "outputs": []
    },
    {
      "cell_type": "code",
      "metadata": {
        "id": "ngqsgWdKnc7B"
      },
      "source": [
        "#splitting the dataset in train and test datasets\n",
        "from sklearn.model_selection import train_test_split\n",
        "X_train,X_test,y_train,y_test = train_test_split(X,y, test_size=0.2)"
      ],
      "id": "ngqsgWdKnc7B",
      "execution_count": 12,
      "outputs": []
    },
    {
      "cell_type": "code",
      "metadata": {
        "id": "_Xcsf-IaoFGx",
        "colab": {
          "base_uri": "https://localhost:8080/",
          "height": 296
        },
        "outputId": "eae2794f-8671-4537-ad9c-01aed824c08e"
      },
      "source": [
        "#checking for ratio of labels in train dataset\n",
        "sns.countplot(y_train)\n",
        "plt.title('Count of labels in train set')\n",
        "plt.show()"
      ],
      "id": "_Xcsf-IaoFGx",
      "execution_count": 18,
      "outputs": [
        {
          "output_type": "display_data",
          "data": {
            "image/png": "[encoded data removed]",
            "text/plain": [
              "<Figure size 432x288 with 1 Axes>"
            ]
          },
          "metadata": {
            "tags": [],
            "needs_background": "light"
          }
        }
      ]
    },
    {
      "cell_type": "code",
      "metadata": {
        "id": "-Qf6EzSooxhc",
        "colab": {
          "base_uri": "https://localhost:8080/",
          "height": 296
        },
        "outputId": "b5d9382e-a31c-4d57-b594-2bc3b93c1d8c"
      },
      "source": [
        "#checking for ratio of labels in test dataset\n",
        "sns.countplot(y_test)\n",
        "plt.title('Count of labels in test set')\n",
        "plt.show()"
      ],
      "id": "-Qf6EzSooxhc",
      "execution_count": 19,
      "outputs": [
        {
          "output_type": "display_data",
          "data": {
            "image/png": "[encoded data removed]",
            "text/plain": [
              "<Figure size 432x288 with 1 Axes>"
            ]
          },
          "metadata": {
            "tags": [],
            "needs_background": "light"
          }
        }
      ]
    },
    {
      "cell_type": "markdown",
      "metadata": {
        "id": "dPsgDA4puy4Q"
      },
      "source": [
        "Ratio of labels in both train and test set is same and imbalanced."
      ],
      "id": "dPsgDA4puy4Q"
    },
    {
      "cell_type": "code",
      "metadata": {
        "id": "PvfBSebpo2b3"
      },
      "source": [
        "#importing libraries to train models and get metrics values\n",
        "from sklearn.ensemble import RandomForestClassifier\n",
        "from sklearn.ensemble import GradientBoostingClassifier\n",
        "from imblearn.ensemble import BalancedBaggingClassifier\n",
        "from sklearn.model_selection import GridSearchCV\n",
        "from sklearn.metrics import accuracy_score, precision_score, recall_score, f1_score\n",
        "from sklearn.metrics import roc_curve, make_scorer\n",
        "from sklearn.metrics import roc_auc_score, confusion_matrix"
      ],
      "id": "PvfBSebpo2b3",
      "execution_count": 78,
      "outputs": []
    },
    {
      "cell_type": "code",
      "metadata": {
        "id": "BgZTqJCyKE_m"
      },
      "source": [
        "#parameter value to perform gridsearch cv\n",
        "params = {'n_estimators' : [50, 100, 500]}"
      ],
      "id": "BgZTqJCyKE_m",
      "execution_count": 21,
      "outputs": []
    },
    {
      "cell_type": "code",
      "metadata": {
        "id": "x1NSl6cyvun_"
      },
      "source": [
        "#using random forest classifier to get feature importance\n",
        "rf = RandomForestClassifier()\n",
        "clf_rf = GridSearchCV(rf, params , cv=3, scoring='roc_auc') "
      ],
      "id": "x1NSl6cyvun_",
      "execution_count": 22,
      "outputs": []
    },
    {
      "cell_type": "code",
      "metadata": {
        "colab": {
          "base_uri": "https://localhost:8080/"
        },
        "id": "MOLIdrDHv9zl",
        "outputId": "8f059b10-a85b-47c0-d878-a7dc07205085"
      },
      "source": [
        "clf_rf.fit(X_train, y_train)"
      ],
      "id": "MOLIdrDHv9zl",
      "execution_count": 23,
      "outputs": [
        {
          "output_type": "execute_result",
          "data": {
            "text/plain": [
              "GridSearchCV(cv=3, error_score=nan,\n",
              "             estimator=RandomForestClassifier(bootstrap=True, ccp_alpha=0.0,\n",
              "                                              class_weight=None,\n",
              "                                              criterion='gini', max_depth=None,\n",
              "                                              max_features='auto',\n",
              "                                              max_leaf_nodes=None,\n",
              "                                              max_samples=None,\n",
              "                                              min_impurity_decrease=0.0,\n",
              "                                              min_impurity_split=None,\n",
              "                                              min_samples_leaf=1,\n",
              "                                              min_samples_split=2,\n",
              "                                              min_weight_fraction_leaf=0.0,\n",
              "                                              n_estimators=100, n_jobs=None,\n",
              "                                              oob_score=False,\n",
              "                                              random_state=None, verbose=0,\n",
              "                                              warm_start=False),\n",
              "             iid='deprecated', n_jobs=None,\n",
              "             param_grid={'n_estimators': [50, 100, 500]},\n",
              "             pre_dispatch='2*n_jobs', refit=True, return_train_score=False,\n",
              "             scoring='roc_auc', verbose=0)"
            ]
          },
          "metadata": {
            "tags": []
          },
          "execution_count": 23
        }
      ]
    },
    {
      "cell_type": "code",
      "metadata": {
        "colab": {
          "base_uri": "https://localhost:8080/"
        },
        "id": "ZaP3Zq1OVXWh",
        "outputId": "52d1b962-03c7-4980-94ab-5c8e0e8db482"
      },
      "source": [
        "clf_rf.best_params_"
      ],
      "id": "ZaP3Zq1OVXWh",
      "execution_count": 24,
      "outputs": [
        {
          "output_type": "execute_result",
          "data": {
            "text/plain": [
              "{'n_estimators': 500}"
            ]
          },
          "metadata": {
            "tags": []
          },
          "execution_count": 24
        }
      ]
    },
    {
      "cell_type": "code",
      "metadata": {
        "colab": {
          "base_uri": "https://localhost:8080/"
        },
        "id": "1cO3NUH4VwrN",
        "outputId": "f40ceb23-98b8-4dad-d5d9-9dd3dc699a65"
      },
      "source": [
        "rf = RandomForestClassifier(n_estimators=clf_rf.best_params_['n_estimators'])\n",
        "rf.fit(X_train, y_train)"
      ],
      "id": "1cO3NUH4VwrN",
      "execution_count": 25,
      "outputs": [
        {
          "output_type": "execute_result",
          "data": {
            "text/plain": [
              "RandomForestClassifier(bootstrap=True, ccp_alpha=0.0, class_weight=None,\n",
              "                       criterion='gini', max_depth=None, max_features='auto',\n",
              "                       max_leaf_nodes=None, max_samples=None,\n",
              "                       min_impurity_decrease=0.0, min_impurity_split=None,\n",
              "                       min_samples_leaf=1, min_samples_split=2,\n",
              "                       min_weight_fraction_leaf=0.0, n_estimators=500,\n",
              "                       n_jobs=None, oob_score=False, random_state=None,\n",
              "                       verbose=0, warm_start=False)"
            ]
          },
          "metadata": {
            "tags": []
          },
          "execution_count": 25
        }
      ]
    },
    {
      "cell_type": "code",
      "metadata": {
        "id": "smRfS1smwIXN"
      },
      "source": [
        "#saving feature name and their corresponding importance of random forest in a dictionary\n",
        "rf_features = {}\n",
        "for feature, importance in zip(X_train.columns, rf.feature_importances_):\n",
        "\trf_features[feature] = importance\n",
        "\n",
        "#sorting the dictionary\n",
        "rf_features = dict(sorted(rf_features.items(), key=lambda item: item[1]))"
      ],
      "id": "smRfS1smwIXN",
      "execution_count": 26,
      "outputs": []
    },
    {
      "cell_type": "code",
      "metadata": {
        "id": "OeJlSLUNGcR6"
      },
      "source": [
        "#using gradient boosting classifier to get feature importance\n",
        "gb = GradientBoostingClassifier()\n",
        "clf_gb = GridSearchCV(gb, params , cv=3, scoring='roc_auc') "
      ],
      "id": "OeJlSLUNGcR6",
      "execution_count": 27,
      "outputs": []
    },
    {
      "cell_type": "code",
      "metadata": {
        "colab": {
          "base_uri": "https://localhost:8080/"
        },
        "id": "OEOcucaQGcae",
        "outputId": "2445f213-d486-44bf-f72c-800ea5b88d16"
      },
      "source": [
        "clf_gb.fit(X_train,y_train)"
      ],
      "id": "OEOcucaQGcae",
      "execution_count": 28,
      "outputs": [
        {
          "output_type": "execute_result",
          "data": {
            "text/plain": [
              "GridSearchCV(cv=3, error_score=nan,\n",
              "             estimator=GradientBoostingClassifier(ccp_alpha=0.0,\n",
              "                                                  criterion='friedman_mse',\n",
              "                                                  init=None, learning_rate=0.1,\n",
              "                                                  loss='deviance', max_depth=3,\n",
              "                                                  max_features=None,\n",
              "                                                  max_leaf_nodes=None,\n",
              "                                                  min_impurity_decrease=0.0,\n",
              "                                                  min_impurity_split=None,\n",
              "                                                  min_samples_leaf=1,\n",
              "                                                  min_samples_split=2,\n",
              "                                                  min_weight_fraction_leaf=0.0,\n",
              "                                                  n_estimators=100,\n",
              "                                                  n_iter_no_change=None,\n",
              "                                                  presort='deprecated',\n",
              "                                                  random_state=None,\n",
              "                                                  subsample=1.0, tol=0.0001,\n",
              "                                                  validation_fraction=0.1,\n",
              "                                                  verbose=0, warm_start=False),\n",
              "             iid='deprecated', n_jobs=None,\n",
              "             param_grid={'n_estimators': [50, 100, 500]},\n",
              "             pre_dispatch='2*n_jobs', refit=True, return_train_score=False,\n",
              "             scoring='roc_auc', verbose=0)"
            ]
          },
          "metadata": {
            "tags": []
          },
          "execution_count": 28
        }
      ]
    },
    {
      "cell_type": "code",
      "metadata": {
        "colab": {
          "base_uri": "https://localhost:8080/"
        },
        "id": "FhSv2gWy5VyK",
        "outputId": "9aa2e576-32c8-4273-a5d8-624bd97186f1"
      },
      "source": [
        "clf_gb.best_params_"
      ],
      "id": "FhSv2gWy5VyK",
      "execution_count": 29,
      "outputs": [
        {
          "output_type": "execute_result",
          "data": {
            "text/plain": [
              "{'n_estimators': 50}"
            ]
          },
          "metadata": {
            "tags": []
          },
          "execution_count": 29
        }
      ]
    },
    {
      "cell_type": "code",
      "metadata": {
        "colab": {
          "base_uri": "https://localhost:8080/"
        },
        "id": "BCW-Lv1l7hFS",
        "outputId": "a3533cd1-866a-4dff-ebd7-f45285c2335f"
      },
      "source": [
        "gb = GradientBoostingClassifier(n_estimators=clf_gb.best_params_['n_estimators'])\n",
        "gb.fit(X_train, y_train)"
      ],
      "id": "BCW-Lv1l7hFS",
      "execution_count": 30,
      "outputs": [
        {
          "output_type": "execute_result",
          "data": {
            "text/plain": [
              "GradientBoostingClassifier(ccp_alpha=0.0, criterion='friedman_mse', init=None,\n",
              "                           learning_rate=0.1, loss='deviance', max_depth=3,\n",
              "                           max_features=None, max_leaf_nodes=None,\n",
              "                           min_impurity_decrease=0.0, min_impurity_split=None,\n",
              "                           min_samples_leaf=1, min_samples_split=2,\n",
              "                           min_weight_fraction_leaf=0.0, n_estimators=50,\n",
              "                           n_iter_no_change=None, presort='deprecated',\n",
              "                           random_state=None, subsample=1.0, tol=0.0001,\n",
              "                           validation_fraction=0.1, verbose=0,\n",
              "                           warm_start=False)"
            ]
          },
          "metadata": {
            "tags": []
          },
          "execution_count": 30
        }
      ]
    },
    {
      "cell_type": "code",
      "metadata": {
        "id": "UKXzdzBdGchB"
      },
      "source": [
        "#saving feature name and their corresponding importance of gradient boosting in a dictionary\n",
        "gb_features = {}\n",
        "for feature, importance in zip(X_train.columns, gb.feature_importances_):\n",
        "\tgb_features[feature] = importance"
      ],
      "id": "UKXzdzBdGchB",
      "execution_count": 31,
      "outputs": []
    },
    {
      "cell_type": "code",
      "metadata": {
        "id": "lsFnB802Gcn9",
        "colab": {
          "base_uri": "https://localhost:8080/",
          "height": 893
        },
        "outputId": "8a171321-8c6f-440a-9f24-a7aacdaf00c6"
      },
      "source": [
        "# plot feature importance\n",
        "plt.figure(figsize=(5,15))\n",
        "pyplot.barh(list(rf_features.keys()), rf_features.values())\n",
        "pyplot.barh(list(gb_features.keys()), gb_features.values(),alpha=0.5)\n",
        "plt.title('Features vs Importance')\n",
        "plt.xlabel('Importance score')\n",
        "plt.ylabel('Features')\n",
        "plt.legend(['Random Forest', 'Gradient Boosting'])\n",
        "pyplot.show()"
      ],
      "id": "lsFnB802Gcn9",
      "execution_count": 55,
      "outputs": [
        {
          "output_type": "display_data",
          "data": {
            "image/png": "[encoded data removed]",
            "text/plain": [
              "<Figure size 360x1080 with 1 Axes>"
            ]
          },
          "metadata": {
            "tags": [],
            "needs_background": "light"
          }
        }
      ]
    },
    {
      "cell_type": "markdown",
      "metadata": {
        "id": "RxMc4EjSasrM"
      },
      "source": [
        "Here we can see that both the models have shown almost same feature importance with some variability. \n",
        "* Some of the features like thumbnail height, number of words, hour of posting the meme and sentiment score are playing major role in classifying memes.\n",
        "* Hue, saturation and value of the images are playing important role.\n",
        "* Colors which are extracted from the meme images such as gray, white, faded colors, black, dark blue, goldish, light blue, brown, yellow, dark cyan, light orange, dark green, cyan, off-white, dark red, dark orange and light red are important.\n",
        "* Very few objects which were extracted from images such as website, book jacket, packet and mud turtle are important but their probabilities (three objects of an image) are very important.\n",
        "\n",
        "<br>\n",
        "Now, extracting important fatures from the dataset to train the model\n"
      ],
      "id": "RxMc4EjSasrM"
    },
    {
      "cell_type": "code",
      "metadata": {
        "id": "fxIpNPa6GcxJ"
      },
      "source": [
        "df_imp_feature = df[['img_feature_pred_1','img_feature_pred_2','img_feature_pred_3','avg_h','avg_s','avg_v','sentiment_score','hour',\n",
        "    'num_words','thumbnail_height','thumbnail_width','gray', 'white', 'faded colors', 'black', 'dark blue', 'goldish',\n",
        "    'light blue', 'brown', 'yellow', 'dark cyan', 'light orange', 'dark green', 'cyan', 'off-white', 'dark red', \n",
        "    'dark orange', 'light red','web_site','book_jacket','packet','mud_turtle','dank_or_not']]"
      ],
      "id": "fxIpNPa6GcxJ",
      "execution_count": 33,
      "outputs": []
    },
    {
      "cell_type": "code",
      "metadata": {
        "id": "Mugb93sz5HI_"
      },
      "source": [
        "#saving dataset containing important features\n",
        "df_imp_feature.to_csv('df_imp_feature.csv', index=False)"
      ],
      "id": "Mugb93sz5HI_",
      "execution_count": 34,
      "outputs": []
    },
    {
      "cell_type": "markdown",
      "metadata": {
        "id": "NnZQhBYzmBac"
      },
      "source": [
        "# **Model creation**"
      ],
      "id": "NnZQhBYzmBac"
    },
    {
      "cell_type": "code",
      "metadata": {
        "id": "crkbfzz56XEt"
      },
      "source": [
        "df = pd.read_csv(\"/content/drive/MyDrive/Applied_ai/df_imp_feature.csv\")"
      ],
      "id": "crkbfzz56XEt",
      "execution_count": 35,
      "outputs": []
    },
    {
      "cell_type": "code",
      "metadata": {
        "id": "Dzf_HoTYnnfM"
      },
      "source": [
        "y = df['dank_or_not']\n",
        "X = df.drop(['dank_or_not'], axis=1)"
      ],
      "id": "Dzf_HoTYnnfM",
      "execution_count": 36,
      "outputs": []
    },
    {
      "cell_type": "code",
      "metadata": {
        "id": "gCvxoGsyn3JG"
      },
      "source": [
        "#splitting the dataset in train and test datasets\n",
        "from sklearn.model_selection import train_test_split\n",
        "X_train,X_test,y_train,y_test = train_test_split(X,y, test_size=0.2)"
      ],
      "id": "gCvxoGsyn3JG",
      "execution_count": 37,
      "outputs": []
    },
    {
      "cell_type": "code",
      "metadata": {
        "id": "QrNFlEV6kAgm"
      },
      "source": [
        "#parameter value to perform gridsearch cv\n",
        "params = {'n_estimators' : [50, 100, 500]}"
      ],
      "id": "QrNFlEV6kAgm",
      "execution_count": 38,
      "outputs": []
    },
    {
      "cell_type": "markdown",
      "metadata": {
        "id": "6DNqDGIlxq4X"
      },
      "source": [
        "### Random Froest without sampling"
      ],
      "id": "6DNqDGIlxq4X"
    },
    {
      "cell_type": "code",
      "metadata": {
        "id": "l8yzzFVkkAk6"
      },
      "source": [
        "#using random forest classifier to get feature importance\n",
        "rf = RandomForestClassifier()\n",
        "clf_rf = GridSearchCV(rf, params , cv=3, scoring='roc_auc') "
      ],
      "id": "l8yzzFVkkAk6",
      "execution_count": 39,
      "outputs": []
    },
    {
      "cell_type": "code",
      "metadata": {
        "colab": {
          "base_uri": "https://localhost:8080/"
        },
        "id": "W4ednvfakAo4",
        "outputId": "eeb341e0-0bae-47aa-de31-be3da6682f79"
      },
      "source": [
        "#training the model\n",
        "clf_rf.fit(X_train, y_train)"
      ],
      "id": "W4ednvfakAo4",
      "execution_count": 40,
      "outputs": [
        {
          "output_type": "execute_result",
          "data": {
            "text/plain": [
              "GridSearchCV(cv=3, error_score=nan,\n",
              "             estimator=RandomForestClassifier(bootstrap=True, ccp_alpha=0.0,\n",
              "                                              class_weight=None,\n",
              "                                              criterion='gini', max_depth=None,\n",
              "                                              max_features='auto',\n",
              "                                              max_leaf_nodes=None,\n",
              "                                              max_samples=None,\n",
              "                                              min_impurity_decrease=0.0,\n",
              "                                              min_impurity_split=None,\n",
              "                                              min_samples_leaf=1,\n",
              "                                              min_samples_split=2,\n",
              "                                              min_weight_fraction_leaf=0.0,\n",
              "                                              n_estimators=100, n_jobs=None,\n",
              "                                              oob_score=False,\n",
              "                                              random_state=None, verbose=0,\n",
              "                                              warm_start=False),\n",
              "             iid='deprecated', n_jobs=None,\n",
              "             param_grid={'n_estimators': [50, 100, 500]},\n",
              "             pre_dispatch='2*n_jobs', refit=True, return_train_score=False,\n",
              "             scoring='roc_auc', verbose=0)"
            ]
          },
          "metadata": {
            "tags": []
          },
          "execution_count": 40
        }
      ]
    },
    {
      "cell_type": "code",
      "metadata": {
        "id": "lRo05g1ukAsN"
      },
      "source": [
        "#predicting values and probabilities\n",
        "y_pred_rf = clf_rf.predict(X_test)\n",
        "y_prob_rf = clf_rf.predict_proba(X_test)\n",
        "y_prob_rf = y_prob_rf[:,1]    #getting probability for only '1' value"
      ],
      "id": "lRo05g1ukAsN",
      "execution_count": 41,
      "outputs": []
    },
    {
      "cell_type": "code",
      "metadata": {
        "id": "qRnnJ4rckAvv"
      },
      "source": [
        "#getting true negative, false positive, false negative and true positive values from confusion matrix\n",
        "tn_rf, fp_rf, fn_rf, tp_rf = confusion_matrix(y_test, y_pred_rf).ravel()"
      ],
      "id": "qRnnJ4rckAvv",
      "execution_count": 42,
      "outputs": []
    },
    {
      "cell_type": "code",
      "metadata": {
        "colab": {
          "base_uri": "https://localhost:8080/",
          "height": 280
        },
        "id": "KHyy2k58BM6P",
        "outputId": "4590d5dc-3bf2-4ad3-e820-fa481d6076b1"
      },
      "source": [
        "#plotting confusion matrix\n",
        "cm_rf = confusion_matrix(y_test, y_pred_rf)\n",
        "sns.heatmap(cm_rf, annot=True, fmt='g')\n",
        "plt.xlabel('Actual')\n",
        "plt.ylabel('Predicted')\n",
        "plt.show()"
      ],
      "id": "KHyy2k58BM6P",
      "execution_count": 43,
      "outputs": [
        {
          "output_type": "display_data",
          "data": {
            "image/png": "[encoded data removed]",
            "text/plain": [
              "<Figure size 432x288 with 2 Axes>"
            ]
          },
          "metadata": {
            "tags": [],
            "needs_background": "light"
          }
        }
      ]
    },
    {
      "cell_type": "code",
      "metadata": {
        "id": "JapjKPJYkAzf"
      },
      "source": [
        "#various metrics values of the model\n",
        "ac_rf = accuracy_score(y_test, y_pred_rf).round(4)\n",
        "pr_rf = precision_score(y_test, y_pred_rf).round(4)\n",
        "re_rf = recall_score(y_test, y_pred_rf).round(4)\n",
        "f1_rf = f1_score(y_test, y_pred_rf).round(4)\n",
        "sensitivity_rf = (tp_rf/(tp_rf+fn_rf)).round(4)\n",
        "specificity_rf = (tn_rf/(tn_rf+fp_rf)).round(4)\n",
        "auc_rf = roc_auc_score(y_test, y_prob_rf).round(4)"
      ],
      "id": "JapjKPJYkAzf",
      "execution_count": 44,
      "outputs": []
    },
    {
      "cell_type": "code",
      "metadata": {
        "colab": {
          "base_uri": "https://localhost:8080/"
        },
        "id": "57AhlHK1FTAB",
        "outputId": "2f95d401-de44-4c68-d148-b562192bcc5c"
      },
      "source": [
        "print('accuracy score : ',ac_rf)\n",
        "print('precision      : ',pr_rf)\n",
        "print('recall         : ',re_rf)\n",
        "print('F1 score       : ',f1_rf)\n",
        "print('sensitivity    : ',sensitivity_rf)\n",
        "print('specificity    : ',specificity_rf)\n",
        "print('AUC            : ',auc_rf)"
      ],
      "id": "57AhlHK1FTAB",
      "execution_count": 45,
      "outputs": [
        {
          "output_type": "stream",
          "text": [
            "accuracy score :  0.9699\n",
            "precision      :  0.15\n",
            "recall         :  0.0061\n",
            "F1 score       :  0.0117\n",
            "sensitivity    :  0.0061\n",
            "specificity    :  0.999\n",
            "AUC            :  0.6163\n"
          ],
          "name": "stdout"
        }
      ]
    },
    {
      "cell_type": "markdown",
      "metadata": {
        "id": "QLV1qFS0yJ5o"
      },
      "source": [
        "### Gradient Boost without sampling"
      ],
      "id": "QLV1qFS0yJ5o"
    },
    {
      "cell_type": "code",
      "metadata": {
        "id": "U836-awzxkYm"
      },
      "source": [
        "#using gradient boosting classifier to get feature importance\n",
        "gb = GradientBoostingClassifier()\n",
        "clf_gb = GridSearchCV(gb, params , cv=3, scoring='roc_auc') "
      ],
      "id": "U836-awzxkYm",
      "execution_count": 46,
      "outputs": []
    },
    {
      "cell_type": "code",
      "metadata": {
        "colab": {
          "base_uri": "https://localhost:8080/"
        },
        "id": "HkMjfe5_xkhl",
        "outputId": "7860c60f-b740-4b58-db15-cf09f09e80a5"
      },
      "source": [
        "#training the model\n",
        "clf_gb.fit(X_train,y_train)"
      ],
      "id": "HkMjfe5_xkhl",
      "execution_count": 47,
      "outputs": [
        {
          "output_type": "execute_result",
          "data": {
            "text/plain": [
              "GridSearchCV(cv=3, error_score=nan,\n",
              "             estimator=GradientBoostingClassifier(ccp_alpha=0.0,\n",
              "                                                  criterion='friedman_mse',\n",
              "                                                  init=None, learning_rate=0.1,\n",
              "                                                  loss='deviance', max_depth=3,\n",
              "                                                  max_features=None,\n",
              "                                                  max_leaf_nodes=None,\n",
              "                                                  min_impurity_decrease=0.0,\n",
              "                                                  min_impurity_split=None,\n",
              "                                                  min_samples_leaf=1,\n",
              "                                                  min_samples_split=2,\n",
              "                                                  min_weight_fraction_leaf=0.0,\n",
              "                                                  n_estimators=100,\n",
              "                                                  n_iter_no_change=None,\n",
              "                                                  presort='deprecated',\n",
              "                                                  random_state=None,\n",
              "                                                  subsample=1.0, tol=0.0001,\n",
              "                                                  validation_fraction=0.1,\n",
              "                                                  verbose=0, warm_start=False),\n",
              "             iid='deprecated', n_jobs=None,\n",
              "             param_grid={'n_estimators': [50, 100, 500]},\n",
              "             pre_dispatch='2*n_jobs', refit=True, return_train_score=False,\n",
              "             scoring='roc_auc', verbose=0)"
            ]
          },
          "metadata": {
            "tags": []
          },
          "execution_count": 47
        }
      ]
    },
    {
      "cell_type": "code",
      "metadata": {
        "id": "hh8_2Nnzxkog"
      },
      "source": [
        "#predicting values and probabilities\n",
        "y_pred_gb = clf_gb.predict(X_test)\n",
        "y_prob_gb = clf_gb.predict_proba(X_test)\n",
        "y_prob_gb = y_prob_gb[:,1]    #getting probability for only '1' value"
      ],
      "id": "hh8_2Nnzxkog",
      "execution_count": 48,
      "outputs": []
    },
    {
      "cell_type": "code",
      "metadata": {
        "id": "6y5jorowxkvK"
      },
      "source": [
        "#getting true negative, false positive, false negative and true positive values from confusion matrix\n",
        "tn_gb, fp_gb, fn_gb, tp_gb = confusion_matrix(y_test, y_pred_gb).ravel()"
      ],
      "id": "6y5jorowxkvK",
      "execution_count": 49,
      "outputs": []
    },
    {
      "cell_type": "code",
      "metadata": {
        "colab": {
          "base_uri": "https://localhost:8080/",
          "height": 280
        },
        "id": "8zFTW7orCdBd",
        "outputId": "3c5cb016-bc9a-4f68-9fb1-8f076e24a1d0"
      },
      "source": [
        "#plotting confusion matrix\n",
        "cm_gb = confusion_matrix(y_test, y_pred_gb)\n",
        "sns.heatmap(cm_gb, annot=True, fmt='g')\n",
        "plt.xlabel('Actual')\n",
        "plt.ylabel('Predicted')\n",
        "plt.show()"
      ],
      "id": "8zFTW7orCdBd",
      "execution_count": 50,
      "outputs": [
        {
          "output_type": "display_data",
          "data": {
            "image/png": "[encoded data removed]",
            "text/plain": [
              "<Figure size 432x288 with 2 Axes>"
            ]
          },
          "metadata": {
            "tags": [],
            "needs_background": "light"
          }
        }
      ]
    },
    {
      "cell_type": "code",
      "metadata": {
        "id": "NAJBxeWvxk4h"
      },
      "source": [
        "#various metrics values of the model\n",
        "ac_gb = accuracy_score(y_test, y_pred_gb).round(4)\n",
        "pr_gb = precision_score(y_test, y_pred_gb).round(4)\n",
        "re_gb = recall_score(y_test, y_pred_gb).round(4)\n",
        "f1_gb = f1_score(y_test, y_pred_gb).round(4)\n",
        "sensitivity_gb = (tp_rf/(tp_rf+fn_gb)).round(4)\n",
        "specificity_gb = (tn_rf/(tn_rf+fp_gb)).round(4)\n",
        "auc_gb = roc_auc_score(y_test, y_prob_gb).round(4)"
      ],
      "id": "NAJBxeWvxk4h",
      "execution_count": 51,
      "outputs": []
    },
    {
      "cell_type": "code",
      "metadata": {
        "colab": {
          "base_uri": "https://localhost:8080/"
        },
        "id": "Lb8jCZPmGHQ3",
        "outputId": "904b9d9f-94e5-4e64-8702-f3e4fedcc247"
      },
      "source": [
        "print('accuracy score : ',ac_gb)\n",
        "print('precision      : ',pr_gb)\n",
        "print('recall         : ',re_gb)\n",
        "print('F1 score       : ',f1_gb)\n",
        "print('sensitivity    : ',sensitivity_gb)\n",
        "print('specificity    : ',specificity_gb)\n",
        "print('AUC            : ',auc_gb)"
      ],
      "id": "Lb8jCZPmGHQ3",
      "execution_count": 52,
      "outputs": [
        {
          "output_type": "stream",
          "text": [
            "accuracy score :  0.97\n",
            "precision      :  0.0\n",
            "recall         :  0.0\n",
            "F1 score       :  0.0\n",
            "sensitivity    :  0.0061\n",
            "specificity    :  0.9993\n",
            "AUC            :  0.6205\n"
          ],
          "name": "stdout"
        }
      ]
    },
    {
      "cell_type": "code",
      "metadata": {
        "colab": {
          "base_uri": "https://localhost:8080/",
          "height": 279
        },
        "id": "ebNVAHrKxk_S",
        "outputId": "80d22e5c-bdda-4a5e-b04d-a46559611709"
      },
      "source": [
        "'''Plotting ROC curve for both Random Forest and Gradient Boosting Classifiers trained on unsampled data'''\n",
        "\n",
        "#no-skill values\n",
        "ns_probs = [0 for _ in range(len(y_test))]\n",
        "ns_auc = roc_auc_score(y_test, ns_probs)\n",
        "\n",
        "# calculate roc curves\n",
        "ns_fpr, ns_tpr, _ = roc_curve(y_test, ns_probs)\n",
        "fpr_rf, tpr_rf, _ = roc_curve(y_test, y_prob_rf)\n",
        "fpr_gb, tpr_gb, _ = roc_curve(y_test, y_prob_gb)\n",
        "\n",
        "# plot the roc curve for the model\n",
        "pyplot.plot(ns_fpr, ns_tpr, linestyle='--', label='No Skill')\n",
        "pyplot.plot(fpr_rf, tpr_rf, marker='.', label='Random Forest')\n",
        "pyplot.plot(fpr_gb, tpr_gb, marker='.', label='Gradient Boost', alpha=0.1)\n",
        "\n",
        "# axis labels\n",
        "pyplot.xlabel('False Positive Rate')\n",
        "pyplot.ylabel('True Positive Rate')\n",
        "# show the legend\n",
        "pyplot.legend()\n",
        "# show the plot\n",
        "pyplot.show()"
      ],
      "id": "ebNVAHrKxk_S",
      "execution_count": 56,
      "outputs": [
        {
          "output_type": "display_data",
          "data": {
            "image/png": "[encoded data removed]",
            "text/plain": [
              "<Figure size 432x288 with 1 Axes>"
            ]
          },
          "metadata": {
            "tags": [],
            "needs_background": "light"
          }
        }
      ]
    },
    {
      "cell_type": "markdown",
      "metadata": {
        "id": "426dWR_TbIh7"
      },
      "source": [
        "## Up-sampling the train data"
      ],
      "id": "426dWR_TbIh7"
    },
    {
      "cell_type": "code",
      "metadata": {
        "id": "T64hjFHbxlGJ"
      },
      "source": [
        "from imblearn.over_sampling import SMOTE"
      ],
      "id": "T64hjFHbxlGJ",
      "execution_count": 59,
      "outputs": []
    },
    {
      "cell_type": "code",
      "metadata": {
        "id": "IOPB1awuxlNB"
      },
      "source": [
        "# transform the dataset\n",
        "oversample = SMOTE()\n",
        "X_train_u, y_train_u = oversample.fit_resample(X_train, y_train)"
      ],
      "id": "IOPB1awuxlNB",
      "execution_count": 60,
      "outputs": []
    },
    {
      "cell_type": "markdown",
      "metadata": {
        "id": "xqX-hyZacRDB"
      },
      "source": [
        "### Training Random Forest with upsampled data"
      ],
      "id": "xqX-hyZacRDB"
    },
    {
      "cell_type": "code",
      "metadata": {
        "id": "v98Kt4LqcMCf"
      },
      "source": [
        "#using random forest classifier to get feature importance\n",
        "rf_us = RandomForestClassifier()\n",
        "clf_rf_us = GridSearchCV(rf_us, params , cv=3, scoring='roc_auc') "
      ],
      "id": "v98Kt4LqcMCf",
      "execution_count": 61,
      "outputs": []
    },
    {
      "cell_type": "code",
      "metadata": {
        "colab": {
          "base_uri": "https://localhost:8080/"
        },
        "id": "RmGqIqQmcMHu",
        "outputId": "f40b0bdd-ec3b-446d-eec1-4137c6b400e1"
      },
      "source": [
        "#training the model\n",
        "clf_rf_us.fit(X_train_u, y_train_u)"
      ],
      "id": "RmGqIqQmcMHu",
      "execution_count": 62,
      "outputs": [
        {
          "output_type": "execute_result",
          "data": {
            "text/plain": [
              "GridSearchCV(cv=3, error_score=nan,\n",
              "             estimator=RandomForestClassifier(bootstrap=True, ccp_alpha=0.0,\n",
              "                                              class_weight=None,\n",
              "                                              criterion='gini', max_depth=None,\n",
              "                                              max_features='auto',\n",
              "                                              max_leaf_nodes=None,\n",
              "                                              max_samples=None,\n",
              "                                              min_impurity_decrease=0.0,\n",
              "                                              min_impurity_split=None,\n",
              "                                              min_samples_leaf=1,\n",
              "                                              min_samples_split=2,\n",
              "                                              min_weight_fraction_leaf=0.0,\n",
              "                                              n_estimators=100, n_jobs=None,\n",
              "                                              oob_score=False,\n",
              "                                              random_state=None, verbose=0,\n",
              "                                              warm_start=False),\n",
              "             iid='deprecated', n_jobs=None,\n",
              "             param_grid={'n_estimators': [50, 100, 500]},\n",
              "             pre_dispatch='2*n_jobs', refit=True, return_train_score=False,\n",
              "             scoring='roc_auc', verbose=0)"
            ]
          },
          "metadata": {
            "tags": []
          },
          "execution_count": 62
        }
      ]
    },
    {
      "cell_type": "code",
      "metadata": {
        "id": "7WOpJEHFcMLX"
      },
      "source": [
        "#predicting values and probabilities\n",
        "y_pred_rf_us = clf_rf_us.predict(X_test)\n",
        "y_prob_rf_us = clf_rf_us.predict_proba(X_test)\n",
        "y_prob_rf_us = y_prob_rf_us[:,1]    #getting probability for only '1' value"
      ],
      "id": "7WOpJEHFcMLX",
      "execution_count": 63,
      "outputs": []
    },
    {
      "cell_type": "code",
      "metadata": {
        "id": "JyD-HnvPcMPB"
      },
      "source": [
        "#getting true negative, false positive, false negative and true positive values from confusion matrix\n",
        "tn_rf_us, fp_rf_us, fn_rf_us, tp_rf_us = confusion_matrix(y_test, y_pred_rf_us).ravel()"
      ],
      "id": "JyD-HnvPcMPB",
      "execution_count": 64,
      "outputs": []
    },
    {
      "cell_type": "code",
      "metadata": {
        "colab": {
          "base_uri": "https://localhost:8080/",
          "height": 281
        },
        "id": "ZumYcQdKcMTR",
        "outputId": "0f006f77-9c80-4dc5-b6b6-79f7d213928c"
      },
      "source": [
        "#plotting confusion matrix\n",
        "cm_rf_us = confusion_matrix(y_test, y_pred_rf_us)\n",
        "sns.heatmap(cm_rf_us, annot=True, fmt='g')\n",
        "plt.xlabel('Actual')\n",
        "plt.ylabel('Predicted')\n",
        "plt.show()"
      ],
      "id": "ZumYcQdKcMTR",
      "execution_count": 65,
      "outputs": [
        {
          "output_type": "display_data",
          "data": {
            "image/png": "[encoded data removed]",
            "text/plain": [
              "<Figure size 432x288 with 2 Axes>"
            ]
          },
          "metadata": {
            "tags": [],
            "needs_background": "light"
          }
        }
      ]
    },
    {
      "cell_type": "code",
      "metadata": {
        "id": "ZgMtYElqdjbB"
      },
      "source": [
        "#various metrics values of the model\n",
        "ac_rf_us = accuracy_score(y_test, y_pred_rf_us).round(4)\n",
        "pr_rf_us = precision_score(y_test, y_pred_rf_us).round(4)\n",
        "re_rf_us = recall_score(y_test, y_pred_rf_us).round(4)\n",
        "f1_rf_us = f1_score(y_test, y_pred_rf_us).round(4)\n",
        "sensitivity_rf_us = (tp_rf_us/(tp_rf_us + fn_rf_us)).round(4)\n",
        "specificity_rf_us = (tn_rf_us/(tn_rf_us + fp_rf_us)).round(4)\n",
        "auc_rf_us = roc_auc_score(y_test, y_prob_rf_us).round(4)"
      ],
      "id": "ZgMtYElqdjbB",
      "execution_count": 66,
      "outputs": []
    },
    {
      "cell_type": "code",
      "metadata": {
        "colab": {
          "base_uri": "https://localhost:8080/"
        },
        "id": "fUFTYEyXdjeP",
        "outputId": "41452480-883c-4bec-fc26-4fee8e42abf9"
      },
      "source": [
        "print('accuracy score : ',ac_rf_us)\n",
        "print('precision      : ',pr_rf_us)\n",
        "print('recall         : ',re_rf_us)\n",
        "print('F1 score       : ',f1_rf_us)\n",
        "print('sensitivity    : ',sensitivity_rf_us)\n",
        "print('specificity    : ',specificity_rf_us)\n",
        "print('AUC            : ',auc_rf_us)"
      ],
      "id": "fUFTYEyXdjeP",
      "execution_count": 67,
      "outputs": [
        {
          "output_type": "stream",
          "text": [
            "accuracy score :  0.9673\n",
            "precision      :  0.1184\n",
            "recall         :  0.0183\n",
            "F1 score       :  0.0317\n",
            "sensitivity    :  0.0183\n",
            "specificity    :  0.9959\n",
            "AUC            :  0.6074\n"
          ],
          "name": "stdout"
        }
      ]
    },
    {
      "cell_type": "markdown",
      "metadata": {
        "id": "O1nkwhBLitXw"
      },
      "source": [
        "### Training Random Forest with upsampled data"
      ],
      "id": "O1nkwhBLitXw"
    },
    {
      "cell_type": "code",
      "metadata": {
        "id": "jjW7VY1Wdji3"
      },
      "source": [
        "#using gradient boosting classifier to get feature importance\n",
        "gb_us = GradientBoostingClassifier()\n",
        "clf_gb_us = GridSearchCV(gb_us, params , cv=3, scoring='roc_auc') "
      ],
      "id": "jjW7VY1Wdji3",
      "execution_count": 68,
      "outputs": []
    },
    {
      "cell_type": "code",
      "metadata": {
        "colab": {
          "base_uri": "https://localhost:8080/"
        },
        "id": "lbmdmJ7rdjmy",
        "outputId": "c6c72381-102a-4b19-c2ba-aa7a102d8491"
      },
      "source": [
        "#training the model\n",
        "clf_gb_us.fit(X_train_u,y_train_u)"
      ],
      "id": "lbmdmJ7rdjmy",
      "execution_count": 69,
      "outputs": [
        {
          "output_type": "execute_result",
          "data": {
            "text/plain": [
              "GridSearchCV(cv=3, error_score=nan,\n",
              "             estimator=GradientBoostingClassifier(ccp_alpha=0.0,\n",
              "                                                  criterion='friedman_mse',\n",
              "                                                  init=None, learning_rate=0.1,\n",
              "                                                  loss='deviance', max_depth=3,\n",
              "                                                  max_features=None,\n",
              "                                                  max_leaf_nodes=None,\n",
              "                                                  min_impurity_decrease=0.0,\n",
              "                                                  min_impurity_split=None,\n",
              "                                                  min_samples_leaf=1,\n",
              "                                                  min_samples_split=2,\n",
              "                                                  min_weight_fraction_leaf=0.0,\n",
              "                                                  n_estimators=100,\n",
              "                                                  n_iter_no_change=None,\n",
              "                                                  presort='deprecated',\n",
              "                                                  random_state=None,\n",
              "                                                  subsample=1.0, tol=0.0001,\n",
              "                                                  validation_fraction=0.1,\n",
              "                                                  verbose=0, warm_start=False),\n",
              "             iid='deprecated', n_jobs=None,\n",
              "             param_grid={'n_estimators': [50, 100, 500]},\n",
              "             pre_dispatch='2*n_jobs', refit=True, return_train_score=False,\n",
              "             scoring='roc_auc', verbose=0)"
            ]
          },
          "metadata": {
            "tags": []
          },
          "execution_count": 69
        }
      ]
    },
    {
      "cell_type": "code",
      "metadata": {
        "id": "DVnDtuRtdjs_"
      },
      "source": [
        "#predicting values and probabilities\n",
        "y_pred_gb_us = clf_gb_us.predict(X_test)\n",
        "y_prob_gb_us = clf_gb_us.predict_proba(X_test)\n",
        "y_prob_gb_us = y_prob_gb_us[:,1]    #getting probability for only '1' value"
      ],
      "id": "DVnDtuRtdjs_",
      "execution_count": 70,
      "outputs": []
    },
    {
      "cell_type": "code",
      "metadata": {
        "id": "0SQZneLTdjwe"
      },
      "source": [
        "#getting true negative, false positive, false negative and true positive values from confusion matrix\n",
        "tn_gb_us, fp_gb_us, fn_gb_us, tp_gb_us = confusion_matrix(y_test, y_pred_gb_us).ravel()"
      ],
      "id": "0SQZneLTdjwe",
      "execution_count": 71,
      "outputs": []
    },
    {
      "cell_type": "code",
      "metadata": {
        "colab": {
          "base_uri": "https://localhost:8080/",
          "height": 280
        },
        "id": "K7p9FJHSdj0A",
        "outputId": "1cc0e675-a288-4837-ed07-c5b51579331a"
      },
      "source": [
        "#plotting confusion matrix\n",
        "cm_gb_us = confusion_matrix(y_test, y_pred_gb_us)\n",
        "sns.heatmap(cm_gb_us, annot=True, fmt='g')\n",
        "plt.xlabel('Actual')\n",
        "plt.ylabel('Predicted')\n",
        "plt.show()"
      ],
      "id": "K7p9FJHSdj0A",
      "execution_count": 72,
      "outputs": [
        {
          "output_type": "display_data",
          "data": {
            "image/png": "[encoded data removed]",
            "text/plain": [
              "<Figure size 432x288 with 2 Axes>"
            ]
          },
          "metadata": {
            "tags": [],
            "needs_background": "light"
          }
        }
      ]
    },
    {
      "cell_type": "code",
      "metadata": {
        "id": "q1FPWoK6dj3d"
      },
      "source": [
        "#various metrics values of the model\n",
        "ac_gb_us = accuracy_score(y_test, y_pred_gb_us).round(4)\n",
        "pr_gb_us = precision_score(y_test, y_pred_gb_us).round(4)\n",
        "re_gb_us = recall_score(y_test, y_pred_gb_us).round(4)\n",
        "f1_gb_us = f1_score(y_test, y_pred_gb_us).round(4)\n",
        "sensitivity_gb_us = (tp_rf_us/(tp_rf_us + fn_gb_us)).round(4)\n",
        "specificity_gb_us = (tn_rf_us/(tn_rf_us + fp_gb_us)).round(4)\n",
        "auc_gb_us = roc_auc_score(y_test, y_prob_gb_us).round(4)"
      ],
      "id": "q1FPWoK6dj3d",
      "execution_count": 73,
      "outputs": []
    },
    {
      "cell_type": "code",
      "metadata": {
        "colab": {
          "base_uri": "https://localhost:8080/"
        },
        "id": "kgnsyDhodj66",
        "outputId": "84b3208d-7380-4a8a-c709-b641dd6ff62c"
      },
      "source": [
        "print('accuracy score : ',ac_gb_us)\n",
        "print('precision      : ',pr_gb_us)\n",
        "print('recall         : ',re_gb_us)\n",
        "print('F1 score       : ',f1_gb_us)\n",
        "print('sensitivity    : ',sensitivity_gb_us)\n",
        "print('specificity    : ',specificity_gb_us)\n",
        "print('AUC            : ',auc_gb_us)"
      ],
      "id": "kgnsyDhodj66",
      "execution_count": 74,
      "outputs": [
        {
          "output_type": "stream",
          "text": [
            "accuracy score :  0.9706\n",
            "precision      :  0.0\n",
            "recall         :  0.0\n",
            "F1 score       :  0.0\n",
            "sensitivity    :  0.018\n",
            "specificity    :  0.9999\n",
            "AUC            :  0.5917\n"
          ],
          "name": "stdout"
        }
      ]
    },
    {
      "cell_type": "code",
      "metadata": {
        "colab": {
          "base_uri": "https://localhost:8080/",
          "height": 279
        },
        "id": "xBJQzHGhdkAR",
        "outputId": "b7f8f684-a75e-4514-8aa1-555cfa009838"
      },
      "source": [
        "'''Plotting ROC curve for both Random Forest and Gradient Boosting Classifiers trained on unsampled data'''\n",
        "\n",
        "#no-skill values\n",
        "ns_probs = [0 for _ in range(len(y_test))]\n",
        "ns_auc = roc_auc_score(y_test, ns_probs)\n",
        "\n",
        "# calculate roc curves\n",
        "ns_fpr, ns_tpr, _ = roc_curve(y_test, ns_probs)\n",
        "fpr_rf_us, tpr_rf_us, _ = roc_curve(y_test, y_prob_rf_us)\n",
        "fpr_gb_us, tpr_gb_us, _ = roc_curve(y_test, y_prob_gb_us)\n",
        "\n",
        "# plot the roc curve for the model\n",
        "pyplot.plot(ns_fpr, ns_tpr, linestyle='--', label='No Skill')\n",
        "pyplot.plot(fpr_rf_us, tpr_rf_us, marker='.', label='Random Forest')\n",
        "pyplot.plot(fpr_gb_us, tpr_gb_us, marker='.', label='Gradient Boost', alpha=0.1)\n",
        "\n",
        "# axis labels\n",
        "pyplot.xlabel('False Positive Rate')\n",
        "pyplot.ylabel('True Positive Rate')\n",
        "# show the legend\n",
        "pyplot.legend()\n",
        "# show the plot\n",
        "pyplot.show()"
      ],
      "id": "xBJQzHGhdkAR",
      "execution_count": 75,
      "outputs": [
        {
          "output_type": "display_data",
          "data": {
            "image/png": "[encoded data removed]",
            "text/plain": [
              "<Figure size 432x288 with 1 Axes>"
            ]
          },
          "metadata": {
            "tags": [],
            "needs_background": "light"
          }
        }
      ]
    },
    {
      "cell_type": "markdown",
      "metadata": {
        "id": "cikRd-4Y9cH5"
      },
      "source": [
        "### Training Balanced Bagging Classifier\n",
        "This is modified version of the bagged decision tree ensemble that performs random undersampling of the majority class prior to fitting each decision tree."
      ],
      "id": "cikRd-4Y9cH5"
    },
    {
      "cell_type": "code",
      "metadata": {
        "id": "mc22MJKiiYjp"
      },
      "source": [
        "#using Balanced Boosting classifier\n",
        "bbc = BalancedBaggingClassifier()\n",
        "clf_bbc = GridSearchCV(bbc, params , cv=3, scoring='roc_auc') "
      ],
      "id": "mc22MJKiiYjp",
      "execution_count": 79,
      "outputs": []
    },
    {
      "cell_type": "code",
      "metadata": {
        "id": "rKqm5Lti--5o",
        "outputId": "b1b115f5-8ca7-4207-8637-23367f2ac9bd",
        "colab": {
          "base_uri": "https://localhost:8080/"
        }
      },
      "source": [
        "#training the model\n",
        "clf_bbc.fit(X_train,y_train)"
      ],
      "id": "rKqm5Lti--5o",
      "execution_count": 80,
      "outputs": [
        {
          "output_type": "execute_result",
          "data": {
            "text/plain": [
              "GridSearchCV(cv=3, error_score=nan,\n",
              "             estimator=BalancedBaggingClassifier(base_estimator=None,\n",
              "                                                 bootstrap=True,\n",
              "                                                 bootstrap_features=False,\n",
              "                                                 max_features=1.0,\n",
              "                                                 max_samples=1.0,\n",
              "                                                 n_estimators=10, n_jobs=1,\n",
              "                                                 oob_score=False,\n",
              "                                                 random_state=None, ratio=None,\n",
              "                                                 replacement=False,\n",
              "                                                 sampling_strategy='auto',\n",
              "                                                 verbose=0, warm_start=False),\n",
              "             iid='deprecated', n_jobs=None,\n",
              "             param_grid={'n_estimators': [50, 100, 500]},\n",
              "             pre_dispatch='2*n_jobs', refit=True, return_train_score=False,\n",
              "             scoring='roc_auc', verbose=0)"
            ]
          },
          "metadata": {
            "tags": []
          },
          "execution_count": 80
        }
      ]
    },
    {
      "cell_type": "code",
      "metadata": {
        "id": "63sRuVk7_CTA"
      },
      "source": [
        "#predicting values and probabilities\n",
        "y_pred_bbc = clf_bbc.predict(X_test)\n",
        "y_prob_bbc = clf_bbc.predict_proba(X_test)\n",
        "y_prob_bbc = y_prob_bbc[:,1]    #getting probability for only '1' value"
      ],
      "id": "63sRuVk7_CTA",
      "execution_count": 81,
      "outputs": []
    },
    {
      "cell_type": "code",
      "metadata": {
        "id": "5aG6fUWm_GkO"
      },
      "source": [
        "#getting true negative, false positive, false negative and true positive values from confusion matrix\n",
        "tn_bbc, fp_bbc, fn_bbc, tp_bbc = confusion_matrix(y_test, y_pred_bbc).ravel()"
      ],
      "id": "5aG6fUWm_GkO",
      "execution_count": 82,
      "outputs": []
    },
    {
      "cell_type": "code",
      "metadata": {
        "id": "mDfFxhwX_Jye",
        "outputId": "aefbdd10-db0c-4116-d92f-8bdc9b348158",
        "colab": {
          "base_uri": "https://localhost:8080/",
          "height": 279
        }
      },
      "source": [
        "#plotting confusion matrix\n",
        "cm_bbc = confusion_matrix(y_test, y_pred_bbc)\n",
        "sns.heatmap(cm_bbc, annot=True, fmt='g')\n",
        "plt.xlabel('Actual')\n",
        "plt.ylabel('Predicted')\n",
        "plt.show()"
      ],
      "id": "mDfFxhwX_Jye",
      "execution_count": 83,
      "outputs": [
        {
          "output_type": "display_data",
          "data": {
            "image/png": "[encoded data removed]",
            "text/plain": [
              "<Figure size 432x288 with 2 Axes>"
            ]
          },
          "metadata": {
            "tags": [],
            "needs_background": "light"
          }
        }
      ]
    },
    {
      "cell_type": "code",
      "metadata": {
        "id": "WL-Jl1p8_MpM"
      },
      "source": [
        "#various metrics values of the model\n",
        "ac_bbc = accuracy_score(y_test, y_pred_bbc).round(4)\n",
        "pr_bbc = precision_score(y_test, y_pred_bbc).round(4)\n",
        "re_bbc = recall_score(y_test, y_pred_bbc).round(4)\n",
        "f1_bbc = f1_score(y_test, y_pred_bbc).round(4)\n",
        "sensitivity_bbc = (tp_bbc/(tp_bbc + fn_bbc)).round(4)\n",
        "specificity_bbc = (tn_bbc/(tn_bbc + fp_bbc)).round(4)\n",
        "auc_bbc = roc_auc_score(y_test, y_prob_bbc).round(4)"
      ],
      "id": "WL-Jl1p8_MpM",
      "execution_count": 84,
      "outputs": []
    },
    {
      "cell_type": "code",
      "metadata": {
        "id": "kYAsIirv_P1l",
        "outputId": "d39f6eef-48d2-4afd-be8a-31e02ab07f59",
        "colab": {
          "base_uri": "https://localhost:8080/"
        }
      },
      "source": [
        "print('accuracy score : ',ac_bbc)\n",
        "print('precision      : ',pr_bbc)\n",
        "print('recall         : ',re_bbc)\n",
        "print('F1 score       : ',f1_bbc)\n",
        "print('sensitivity    : ',sensitivity_bbc)\n",
        "print('specificity    : ',specificity_bbc)\n",
        "print('AUC            : ',auc_bbc)"
      ],
      "id": "kYAsIirv_P1l",
      "execution_count": 85,
      "outputs": [
        {
          "output_type": "stream",
          "text": [
            "accuracy score :  0.841\n",
            "precision      :  0.0556\n",
            "recall         :  0.277\n",
            "F1 score       :  0.0926\n",
            "sensitivity    :  0.277\n",
            "specificity    :  0.8581\n",
            "AUC            :  0.6432\n"
          ],
          "name": "stdout"
        }
      ]
    },
    {
      "cell_type": "code",
      "metadata": {
        "id": "je57j298_SpM",
        "outputId": "ee0fe536-a261-4a0a-c15b-9cafd42a6f86",
        "colab": {
          "base_uri": "https://localhost:8080/",
          "height": 279
        }
      },
      "source": [
        "'''Plotting ROC curve for Balanced Bagging Classifier'''\n",
        "\n",
        "#no-skill values\n",
        "ns_probs = [0 for _ in range(len(y_test))]\n",
        "ns_auc = roc_auc_score(y_test, ns_probs)\n",
        "\n",
        "# calculate roc curves\n",
        "ns_fpr, ns_tpr, _ = roc_curve(y_test, ns_probs)\n",
        "fpr_bbc, tpr_bbc, _ = roc_curve(y_test, y_prob_bbc)\n",
        "\n",
        "# plot the roc curve for the model\n",
        "pyplot.plot(ns_fpr, ns_tpr, linestyle='--', label='No Skill')\n",
        "pyplot.plot(fpr_bbc, tpr_bbc, marker='.', label='Balanced Bagging')\n",
        "\n",
        "# axis labels\n",
        "pyplot.xlabel('False Positive Rate')\n",
        "pyplot.ylabel('True Positive Rate')\n",
        "# show the legend\n",
        "pyplot.legend()\n",
        "# show the plot\n",
        "pyplot.show()"
      ],
      "id": "je57j298_SpM",
      "execution_count": 86,
      "outputs": [
        {
          "output_type": "display_data",
          "data": {
            "image/png": "[encoded data removed]",
            "text/plain": [
              "<Figure size 432x288 with 1 Axes>"
            ]
          },
          "metadata": {
            "tags": [],
            "needs_background": "light"
          }
        }
      ]
    },
    {
      "cell_type": "code",
      "metadata": {
        "id": "KjqXygmp_Wxc"
      },
      "source": [
        "from prettytable import PrettyTable\n",
        "x = PrettyTable()"
      ],
      "id": "KjqXygmp_Wxc",
      "execution_count": 87,
      "outputs": []
    },
    {
      "cell_type": "code",
      "metadata": {
        "id": "FP9cFBh__Zw9",
        "outputId": "e6923d75-c94b-4977-ef95-e3753fffa613",
        "colab": {
          "base_uri": "https://localhost:8080/"
        }
      },
      "source": [
        "x.field_names = [\"Algorithm\", \"Accuracy\", \"Precision\", \"Recall\", \"F1 score\", \"AUC\", \"Sensitivity\", \"Specificity\", \"Sampled\"]\n",
        "x.add_row([\"Random Forest Classifier\", ac_rf, pr_rf,re_rf,f1_rf,auc_rf,sensitivity_rf,specificity_rf,'No'])\n",
        "x.add_row([\"Gradient Boosting Classifier\", ac_gb, pr_gb,re_gb,f1_gb,auc_gb,sensitivity_gb,specificity_gb,'No'])\n",
        "x.add_row([\"Random Forest Classifier\", ac_rf_us, pr_rf_us,re_rf_us,f1_rf_us,auc_rf_us,sensitivity_rf_us,specificity_rf_us,'Up-sampled'])\n",
        "x.add_row([\"Gradient Boosting Classifier\", ac_gb_us, pr_gb_us,re_gb_us,f1_gb_us,auc_gb_us,sensitivity_gb_us,specificity_gb_us,'Up-sampled'])\n",
        "x.add_row([\"Balanced Bagging Classifier\", ac_bbc, pr_bbc,re_bbc,f1_bbc,auc_bbc,sensitivity_bbc,specificity_bbc,'Down-sampled'])\n",
        "print(x)"
      ],
      "id": "FP9cFBh__Zw9",
      "execution_count": 88,
      "outputs": [
        {
          "output_type": "stream",
          "text": [
            "+------------------------------+----------+-----------+--------+----------+--------+-------------+-------------+--------------+\n",
            "|          Algorithm           | Accuracy | Precision | Recall | F1 score |  AUC   | Sensitivity | Specificity |   Sampled    |\n",
            "+------------------------------+----------+-----------+--------+----------+--------+-------------+-------------+--------------+\n",
            "|   Random Forest Classifier   |  0.9699  |    0.15   | 0.0061 |  0.0117  | 0.6163 |    0.0061   |    0.999    |      No      |\n",
            "| Gradient Boosting Classifier |   0.97   |    0.0    |  0.0   |   0.0    | 0.6205 |    0.0061   |    0.9993   |      No      |\n",
            "|   Random Forest Classifier   |  0.9673  |   0.1184  | 0.0183 |  0.0317  | 0.6074 |    0.0183   |    0.9959   |  Up-sampled  |\n",
            "| Gradient Boosting Classifier |  0.9706  |    0.0    |  0.0   |   0.0    | 0.5917 |    0.018    |    0.9999   |  Up-sampled  |\n",
            "| Balanced Bagging Classifier  |  0.841   |   0.0556  | 0.277  |  0.0926  | 0.6432 |    0.277    |    0.8581   | Down-sampled |\n",
            "+------------------------------+----------+-----------+--------+----------+--------+-------------+-------------+--------------+\n"
          ],
          "name": "stdout"
        }
      ]
    },
    {
      "cell_type": "markdown",
      "metadata": {
        "id": "F3ZlmhLfA1yE"
      },
      "source": [
        "From the table we can see that Random Forest is performing better than Gradient Boosting Classifier. The best performing algorithm is Balanced Bagging Classifier which is modified version of the bagged decision tree ensemble that performs random undersampling of the majority class prior to fitting each decision tree.<br><br>\n",
        "So I am going to save this model in pickle form"
      ],
      "id": "F3ZlmhLfA1yE"
    },
    {
      "cell_type": "code",
      "metadata": {
        "id": "tXuSFXnWAOa-"
      },
      "source": [
        "import pickle"
      ],
      "id": "tXuSFXnWAOa-",
      "execution_count": 89,
      "outputs": []
    },
    {
      "cell_type": "code",
      "metadata": {
        "id": "QA8q9P83B2BH"
      },
      "source": [
        "pickle.dump(clf_bbc, open('dankornot_ml.pkl', 'wb'))"
      ],
      "id": "QA8q9P83B2BH",
      "execution_count": 90,
      "outputs": []
    }
  ]
}