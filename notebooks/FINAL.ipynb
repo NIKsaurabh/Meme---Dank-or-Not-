{
  "nbformat": 4,
  "nbformat_minor": 0,
  "metadata": {
    "colab": {
      "name": "FINAL.ipynb",
      "provenance": [],
      "collapsed_sections": []
    },
    "kernelspec": {
      "name": "python3",
      "display_name": "Python 3"
    },
    "language_info": {
      "name": "python"
    }
  },
  "cells": [
    {
      "cell_type": "code",
      "metadata": {
        "id": "7YgEJODEyj-Z",
        "colab": {
          "base_uri": "https://localhost:8080/",
          "height": 0
        },
        "outputId": "f9fec562-0574-4936-8dad-0204ce01c907"
      },
      "source": [
        "#installing pytesseract\n",
        "!pip install pytesseract\n",
        "!sudo apt install tesseract-ocr\n",
        "!pip install tensorflow-text"
      ],
      "execution_count": 1,
      "outputs": [
        {
          "output_type": "stream",
          "text": [
            "Requirement already satisfied: pytesseract in /usr/local/lib/python3.7/dist-packages (0.3.7)\n",
            "Requirement already satisfied: Pillow in /usr/local/lib/python3.7/dist-packages (from pytesseract) (7.1.2)\n",
            "Reading package lists... Done\n",
            "Building dependency tree       \n",
            "Reading state information... Done\n",
            "tesseract-ocr is already the newest version (4.00~git2288-10f4998a-2).\n",
            "0 upgraded, 0 newly installed, 0 to remove and 39 not upgraded.\n",
            "Requirement already satisfied: tensorflow-text in /usr/local/lib/python3.7/dist-packages (2.5.0)\n",
            "Requirement already satisfied: tensorflow-hub>=0.8.0 in /usr/local/lib/python3.7/dist-packages (from tensorflow-text) (0.12.0)\n",
            "Requirement already satisfied: tensorflow<2.6,>=2.5.0 in /usr/local/lib/python3.7/dist-packages (from tensorflow-text) (2.5.0)\n",
            "Requirement already satisfied: numpy>=1.12.0 in /usr/local/lib/python3.7/dist-packages (from tensorflow-hub>=0.8.0->tensorflow-text) (1.19.5)\n",
            "Requirement already satisfied: protobuf>=3.8.0 in /usr/local/lib/python3.7/dist-packages (from tensorflow-hub>=0.8.0->tensorflow-text) (3.12.4)\n",
            "Requirement already satisfied: h5py~=3.1.0 in /usr/local/lib/python3.7/dist-packages (from tensorflow<2.6,>=2.5.0->tensorflow-text) (3.1.0)\n",
            "Requirement already satisfied: flatbuffers~=1.12.0 in /usr/local/lib/python3.7/dist-packages (from tensorflow<2.6,>=2.5.0->tensorflow-text) (1.12)\n",
            "Requirement already satisfied: tensorboard~=2.5 in /usr/local/lib/python3.7/dist-packages (from tensorflow<2.6,>=2.5.0->tensorflow-text) (2.5.0)\n",
            "Requirement already satisfied: wrapt~=1.12.1 in /usr/local/lib/python3.7/dist-packages (from tensorflow<2.6,>=2.5.0->tensorflow-text) (1.12.1)\n",
            "Requirement already satisfied: keras-preprocessing~=1.1.2 in /usr/local/lib/python3.7/dist-packages (from tensorflow<2.6,>=2.5.0->tensorflow-text) (1.1.2)\n",
            "Requirement already satisfied: wheel~=0.35 in /usr/local/lib/python3.7/dist-packages (from tensorflow<2.6,>=2.5.0->tensorflow-text) (0.36.2)\n",
            "Requirement already satisfied: astunparse~=1.6.3 in /usr/local/lib/python3.7/dist-packages (from tensorflow<2.6,>=2.5.0->tensorflow-text) (1.6.3)\n",
            "Requirement already satisfied: tensorflow-estimator<2.6.0,>=2.5.0rc0 in /usr/local/lib/python3.7/dist-packages (from tensorflow<2.6,>=2.5.0->tensorflow-text) (2.5.0)\n",
            "Requirement already satisfied: absl-py~=0.10 in /usr/local/lib/python3.7/dist-packages (from tensorflow<2.6,>=2.5.0->tensorflow-text) (0.12.0)\n",
            "Requirement already satisfied: gast==0.4.0 in /usr/local/lib/python3.7/dist-packages (from tensorflow<2.6,>=2.5.0->tensorflow-text) (0.4.0)\n",
            "Requirement already satisfied: keras-nightly~=2.5.0.dev in /usr/local/lib/python3.7/dist-packages (from tensorflow<2.6,>=2.5.0->tensorflow-text) (2.5.0.dev2021032900)\n",
            "Requirement already satisfied: termcolor~=1.1.0 in /usr/local/lib/python3.7/dist-packages (from tensorflow<2.6,>=2.5.0->tensorflow-text) (1.1.0)\n",
            "Requirement already satisfied: grpcio~=1.34.0 in /usr/local/lib/python3.7/dist-packages (from tensorflow<2.6,>=2.5.0->tensorflow-text) (1.34.1)\n",
            "Requirement already satisfied: typing-extensions~=3.7.4 in /usr/local/lib/python3.7/dist-packages (from tensorflow<2.6,>=2.5.0->tensorflow-text) (3.7.4.3)\n",
            "Requirement already satisfied: six~=1.15.0 in /usr/local/lib/python3.7/dist-packages (from tensorflow<2.6,>=2.5.0->tensorflow-text) (1.15.0)\n",
            "Requirement already satisfied: opt-einsum~=3.3.0 in /usr/local/lib/python3.7/dist-packages (from tensorflow<2.6,>=2.5.0->tensorflow-text) (3.3.0)\n",
            "Requirement already satisfied: google-pasta~=0.2 in /usr/local/lib/python3.7/dist-packages (from tensorflow<2.6,>=2.5.0->tensorflow-text) (0.2.0)\n",
            "Requirement already satisfied: setuptools in /usr/local/lib/python3.7/dist-packages (from protobuf>=3.8.0->tensorflow-hub>=0.8.0->tensorflow-text) (57.0.0)\n",
            "Requirement already satisfied: cached-property; python_version < \"3.8\" in /usr/local/lib/python3.7/dist-packages (from h5py~=3.1.0->tensorflow<2.6,>=2.5.0->tensorflow-text) (1.5.2)\n",
            "Requirement already satisfied: requests<3,>=2.21.0 in /usr/local/lib/python3.7/dist-packages (from tensorboard~=2.5->tensorflow<2.6,>=2.5.0->tensorflow-text) (2.23.0)\n",
            "Requirement already satisfied: werkzeug>=0.11.15 in /usr/local/lib/python3.7/dist-packages (from tensorboard~=2.5->tensorflow<2.6,>=2.5.0->tensorflow-text) (1.0.1)\n",
            "Requirement already satisfied: tensorboard-plugin-wit>=1.6.0 in /usr/local/lib/python3.7/dist-packages (from tensorboard~=2.5->tensorflow<2.6,>=2.5.0->tensorflow-text) (1.8.0)\n",
            "Requirement already satisfied: google-auth-oauthlib<0.5,>=0.4.1 in /usr/local/lib/python3.7/dist-packages (from tensorboard~=2.5->tensorflow<2.6,>=2.5.0->tensorflow-text) (0.4.4)\n",
            "Requirement already satisfied: markdown>=2.6.8 in /usr/local/lib/python3.7/dist-packages (from tensorboard~=2.5->tensorflow<2.6,>=2.5.0->tensorflow-text) (3.3.4)\n",
            "Requirement already satisfied: google-auth<2,>=1.6.3 in /usr/local/lib/python3.7/dist-packages (from tensorboard~=2.5->tensorflow<2.6,>=2.5.0->tensorflow-text) (1.31.0)\n",
            "Requirement already satisfied: tensorboard-data-server<0.7.0,>=0.6.0 in /usr/local/lib/python3.7/dist-packages (from tensorboard~=2.5->tensorflow<2.6,>=2.5.0->tensorflow-text) (0.6.1)\n",
            "Requirement already satisfied: idna<3,>=2.5 in /usr/local/lib/python3.7/dist-packages (from requests<3,>=2.21.0->tensorboard~=2.5->tensorflow<2.6,>=2.5.0->tensorflow-text) (2.10)\n",
            "Requirement already satisfied: chardet<4,>=3.0.2 in /usr/local/lib/python3.7/dist-packages (from requests<3,>=2.21.0->tensorboard~=2.5->tensorflow<2.6,>=2.5.0->tensorflow-text) (3.0.4)\n",
            "Requirement already satisfied: urllib3!=1.25.0,!=1.25.1,<1.26,>=1.21.1 in /usr/local/lib/python3.7/dist-packages (from requests<3,>=2.21.0->tensorboard~=2.5->tensorflow<2.6,>=2.5.0->tensorflow-text) (1.24.3)\n",
            "Requirement already satisfied: certifi>=2017.4.17 in /usr/local/lib/python3.7/dist-packages (from requests<3,>=2.21.0->tensorboard~=2.5->tensorflow<2.6,>=2.5.0->tensorflow-text) (2021.5.30)\n",
            "Requirement already satisfied: requests-oauthlib>=0.7.0 in /usr/local/lib/python3.7/dist-packages (from google-auth-oauthlib<0.5,>=0.4.1->tensorboard~=2.5->tensorflow<2.6,>=2.5.0->tensorflow-text) (1.3.0)\n",
            "Requirement already satisfied: importlib-metadata; python_version < \"3.8\" in /usr/local/lib/python3.7/dist-packages (from markdown>=2.6.8->tensorboard~=2.5->tensorflow<2.6,>=2.5.0->tensorflow-text) (4.5.0)\n",
            "Requirement already satisfied: cachetools<5.0,>=2.0.0 in /usr/local/lib/python3.7/dist-packages (from google-auth<2,>=1.6.3->tensorboard~=2.5->tensorflow<2.6,>=2.5.0->tensorflow-text) (4.2.2)\n",
            "Requirement already satisfied: rsa<5,>=3.1.4; python_version >= \"3.6\" in /usr/local/lib/python3.7/dist-packages (from google-auth<2,>=1.6.3->tensorboard~=2.5->tensorflow<2.6,>=2.5.0->tensorflow-text) (4.7.2)\n",
            "Requirement already satisfied: pyasn1-modules>=0.2.1 in /usr/local/lib/python3.7/dist-packages (from google-auth<2,>=1.6.3->tensorboard~=2.5->tensorflow<2.6,>=2.5.0->tensorflow-text) (0.2.8)\n",
            "Requirement already satisfied: oauthlib>=3.0.0 in /usr/local/lib/python3.7/dist-packages (from requests-oauthlib>=0.7.0->google-auth-oauthlib<0.5,>=0.4.1->tensorboard~=2.5->tensorflow<2.6,>=2.5.0->tensorflow-text) (3.1.1)\n",
            "Requirement already satisfied: zipp>=0.5 in /usr/local/lib/python3.7/dist-packages (from importlib-metadata; python_version < \"3.8\"->markdown>=2.6.8->tensorboard~=2.5->tensorflow<2.6,>=2.5.0->tensorflow-text) (3.4.1)\n",
            "Requirement already satisfied: pyasn1>=0.1.3 in /usr/local/lib/python3.7/dist-packages (from rsa<5,>=3.1.4; python_version >= \"3.6\"->google-auth<2,>=1.6.3->tensorboard~=2.5->tensorflow<2.6,>=2.5.0->tensorflow-text) (0.4.8)\n"
          ],
          "name": "stdout"
        }
      ]
    },
    {
      "cell_type": "code",
      "metadata": {
        "colab": {
          "base_uri": "https://localhost:8080/",
          "height": 0
        },
        "id": "iQk4OK4PZmSs",
        "outputId": "2f2eb37c-0a87-4deb-ad1c-31274eb50ac3"
      },
      "source": [
        "from google.colab import drive\n",
        "drive.mount('/content/drive')"
      ],
      "execution_count": 2,
      "outputs": [
        {
          "output_type": "stream",
          "text": [
            "Drive already mounted at /content/drive; to attempt to forcibly remount, call drive.mount(\"/content/drive\", force_remount=True).\n"
          ],
          "name": "stdout"
        }
      ]
    },
    {
      "cell_type": "code",
      "metadata": {
        "id": "KXrzEPa8mdi-"
      },
      "source": [
        "#importing libraries\n",
        "import pandas as pd\n",
        "import numpy as np\n",
        "import matplotlib.pyplot as plt\n",
        "import seaborn as sns\n",
        "from tqdm import tqdm\n",
        "import re\n",
        "import nltk\n",
        "from nltk.corpus import stopwords\n",
        "from drive.MyDrive.Applied_ai import sentiment    #importing python module\n",
        "\n",
        "import tensorflow as tf\n",
        "from tensorflow import keras\n",
        "import tensorflow_text as text\n",
        "from keras.applications.vgg16 import VGG16\n",
        "from keras.preprocessing import image\n",
        "from keras.applications.vgg16 import preprocess_input\n",
        "from keras.applications.vgg16 import decode_predictions\n",
        "from keras.models import load_model\n",
        "\n",
        "import json\n",
        "import pickle\n",
        "\n",
        "from PIL import Image\n",
        "import cv2 \n",
        "from skimage import io\n",
        "import pytesseract\n",
        "\n",
        "from sklearn.metrics import accuracy_score, confusion_matrix\n",
        "\n",
        "import warnings\n",
        "warnings.filterwarnings(\"ignore\")"
      ],
      "execution_count": 3,
      "outputs": []
    },
    {
      "cell_type": "code",
      "metadata": {
        "id": "Hg_CSEmr66Lv",
        "colab": {
          "base_uri": "https://localhost:8080/",
          "height": 0
        },
        "outputId": "a101e93b-a06d-4617-eb15-69099cdf4f31"
      },
      "source": [
        "nltk.download('punkt')\n",
        "nltk.download('stopwords')"
      ],
      "execution_count": 4,
      "outputs": [
        {
          "output_type": "stream",
          "text": [
            "[nltk_data] Downloading package punkt to /root/nltk_data...\n",
            "[nltk_data]   Package punkt is already up-to-date!\n",
            "[nltk_data] Downloading package stopwords to /root/nltk_data...\n",
            "[nltk_data]   Package stopwords is already up-to-date!\n"
          ],
          "name": "stdout"
        },
        {
          "output_type": "execute_result",
          "data": {
            "text/plain": [
              "True"
            ]
          },
          "metadata": {
            "tags": []
          },
          "execution_count": 4
        }
      ]
    },
    {
      "cell_type": "code",
      "metadata": {
        "id": "GkW9b7s8y4wX"
      },
      "source": [
        "pytesseract.pytesseract.tesseract_cmd = r'/usr/bin/tesseract'"
      ],
      "execution_count": 5,
      "outputs": []
    },
    {
      "cell_type": "code",
      "metadata": {
        "id": "2AkiFyiMvOpg"
      },
      "source": [
        "#reading the dataset\n",
        "dataset = pd.read_csv('/content/drive/MyDrive/Applied_ai/test dataset/df_final_test.csv')"
      ],
      "execution_count": 6,
      "outputs": []
    },
    {
      "cell_type": "code",
      "metadata": {
        "id": "9IfqzRJSaYfX"
      },
      "source": [
        "#loading pre trained model and word index\n",
        "pred_model = keras.models.load_model('/content/drive/MyDrive/Applied_ai/best_model.hdf5')\n",
        "word_idx = json.load(open(\"/content/drive/MyDrive/Applied_ai/word_idx.txt\"))\n",
        "img_feature_model = VGG16()"
      ],
      "execution_count": 7,
      "outputs": []
    },
    {
      "cell_type": "code",
      "metadata": {
        "id": "B8iKF99TeIAY"
      },
      "source": [
        "#range of HSV values to extract colors from the image\n",
        "boundries = [([0,0,200],[180,25,255]),      #white\n",
        "              ([0,0,0],[180,255,3]),        #black\n",
        "              ([0,0,100],[180,20,180]),        #gray\n",
        "              ([0,90,115],[17,255,190]),     #brown\n",
        "              ([20,50,240],[30,75,255]),     #off-white\n",
        "              ([0,140,155],[12,255,230]),      #dark red\n",
        "              ([0,140,230],[12,255,255]),     #light red\n",
        "              ([13,190,155],[17,255,230]),     #dark orange\n",
        "              ([13,140,230],[115,255,255]),    #light orange\n",
        "              ([18,140,155],[140,255,230]),     #goldish\n",
        "              ([23,140,230],[165,255,255]),    #yellow\n",
        "              ([28,90,155],[80,255,230]),    #dark green\n",
        "              ([85,77,153],[93,255,230]),   #dark cyan\n",
        "              ([85,77,230],[93,255,255]),  #cyan\n",
        "              ([100,128,90],[125,255,190]),   #dark blue\n",
        "              ([100,128,193],[125,255,255]),  #light blue\n",
        "              ([0,0,255],[180,25,255])      #faded colors\n",
        "]"
      ],
      "execution_count": 8,
      "outputs": []
    },
    {
      "cell_type": "markdown",
      "metadata": {
        "id": "4GuY4kvnLL8D"
      },
      "source": [
        "<br>\n",
        "\n",
        "# **First Function**"
      ]
    },
    {
      "cell_type": "code",
      "metadata": {
        "id": "CrSt4C0So0hs"
      },
      "source": [
        "def function_1(data):\n",
        "  \n",
        "  df = data\n",
        "  \n",
        "  #lists to store extracted data from image\n",
        "  img_text = []\n",
        "  avg_h = []\n",
        "  avg_s = []\n",
        "  avg_v = []\n",
        "  all_colors = []\n",
        "  width = []\n",
        "  height = []\n",
        "  img_feature_pred_1 = []\n",
        "  img_feature_pred_2 = []\n",
        "  img_feature_pred_3 = []\n",
        "  website = []\n",
        "  book_jacket = []\n",
        "  packet = []\n",
        "  mud_turtle = []\n",
        "\n",
        "  print(\"\\n\\nPreparing data...\\n\")\n",
        "  #extracting data from images\n",
        "  for url in tqdm(data['url'], position=0):\n",
        "\n",
        "    path = '/content/drive/MyDrive/Applied_ai/meme_images/'+url\n",
        "    im = io.imread(path)\n",
        "\n",
        "    #extracting text\n",
        "    im_t = cv2.cvtColor(im, cv2.COLOR_BGR2GRAY)\n",
        "    _, im_t = cv2.threshold(im_t, 127, 255, cv2.THRESH_BINARY) \n",
        "    custom_config = r\"--oem 3 --psm 11 -c tessedit_char_whitelist= 'ABCDEFGHIJKLMNOPQRSTUVWXYZ '\"\n",
        "    text = pytesseract.image_to_string(im_t, lang='eng', config=custom_config)\n",
        "    #print('text length',len(text.split(' ')))\n",
        "    text = text.replace('\\n', ' ')\n",
        "\n",
        "    #cleaning text\n",
        "    text = re.sub('[^A-Za-z]',' ',text).lower()\n",
        "    words = nltk.word_tokenize(text)\n",
        "    stopWords = set(stopwords.words('english'))\n",
        "    words = [w for w in words if w not in stopWords and len(w)>3]\n",
        "    img_text.append(' '.join(words))\n",
        "    \n",
        "    #extracting HSV\n",
        "    hsv = cv2.cvtColor(im, cv2.COLOR_BGR2HSV)\n",
        "    h,s,v = cv2.split(hsv)\n",
        "    avg_h.append(h.mean())\n",
        "    avg_s.append(s.mean())\n",
        "    avg_v.append(v.mean())\n",
        "    \n",
        "    #extracting colors from image\n",
        "    num_pixel = im.shape[0] * im.shape[1]\n",
        "    hsv = cv2.cvtColor(im, cv2.COLOR_BGR2HSV)\n",
        "    clr_pixel = []\n",
        "\n",
        "    for (lower, upper) in boundries:\n",
        "      lower = np.array(lower, dtype = \"uint8\")\n",
        "      upper = np.array(upper, dtype = \"uint8\")\n",
        "      mask = cv2.inRange(hsv, lower, upper)\n",
        "      clr_pixel.append(round(((mask==255).sum())/num_pixel,5)) #counting and normalizing number of pixels\n",
        "\n",
        "    all_colors.append(clr_pixel)\n",
        "    \n",
        "    #getting height and width of the image\n",
        "    hgt = im.shape[0]\n",
        "    wth = im.shape[1]\n",
        "    width.append(wth)\n",
        "    height.append(hgt)\n",
        "    \n",
        "    #extracting objects from image using VGG16\n",
        "    \n",
        "    pixels = np.asarray(im)\n",
        "    pixels = pixels.astype('float32')\n",
        "    pixels.resize(224,224,3)\n",
        "    pixels = np.expand_dims(pixels, axis=0)\n",
        "    pixels = preprocess_input(pixels)\n",
        "    im_prediction = img_feature_model.predict(pixels)\n",
        "    labels = decode_predictions(im_prediction, top=3)\n",
        "    \n",
        "    img_feature_pred_1.append(labels[0][0][2])\n",
        "    img_feature_pred_2.append(labels[0][1][2])\n",
        "    img_feature_pred_3.append(labels[0][2][2])\n",
        "\n",
        "    objects = [labels[0][0][1],labels[0][1][1],labels[0][2][1]]\n",
        "    for j in ['website','book_jacket','packet','mud_turtle']:\n",
        "        if j in objects:\n",
        "          exec(\"%s.append(%d)\" % (j,1))\n",
        "        else:\n",
        "          exec(\"%s.append(%d)\" % (j,0))\n",
        "\n",
        "    \n",
        "  \"\"\"combining extracted features from images to the dataset\"\"\"\n",
        "  \n",
        "  #text data\n",
        "  df['text'] = img_text\n",
        "  \n",
        "  #feature containing number of words in text\n",
        "  df['num_words'] = df['text'].str.split().apply(len)\n",
        "  \n",
        "  #getting sentiment score of the text data\n",
        "  df = sentiment.get_sentiment(pred_model, df, word_idx)\n",
        "  \n",
        "  #getting HSV value\n",
        "  df['avg_h'] = avg_h\n",
        "  df['avg_s'] = avg_s\n",
        "  df['avg_v'] = avg_v\n",
        "\n",
        "  #colors\n",
        "  colors = ['white','black','gray','brown','off-white','dark red','light red','dark orange','light orange',\n",
        "          'goldish','yellow','dark green','dark cyan','cyan','dark blue','light blue','faded colors']\n",
        "  #adding new color features to the dataset\n",
        "  for i, color in enumerate(colors):\n",
        "    df[color] = np.matrix(all_colors)[:,i]\n",
        "\n",
        "  #thumbnail height and width\n",
        "  df['thumbnail_height'] = height\n",
        "  df['thumbnail_width']  = width\n",
        "\n",
        "  #probability of occurance of objects in the image\n",
        "  df['img_feature_pred_1'] = img_feature_pred_1\n",
        "  df['img_feature_pred_2'] = img_feature_pred_2\n",
        "  df['img_feature_pred_3'] = img_feature_pred_3\n",
        "\n",
        "  #objects in the image\n",
        "  df['web_site'] = website\n",
        "  df['book_jacket'] = book_jacket\n",
        "  df['packet'] = packet\n",
        "  df['mud_turtle'] = mud_turtle\n",
        "\n",
        "  \"\"\"Defining different features for our different models\"\"\"\n",
        "\n",
        "  #dataset for ML model\n",
        "  X_ml = df[['img_feature_pred_1','img_feature_pred_2','img_feature_pred_3','avg_h','avg_s','avg_v','Sentiment_Score','hour',\n",
        "    'num_words','thumbnail_height','thumbnail_width','gray', 'white', 'faded colors', 'black', 'dark blue', 'goldish',\n",
        "    'light blue', 'brown', 'yellow', 'dark cyan', 'light orange', 'dark green', 'cyan', 'off-white', 'dark red', \n",
        "    'dark orange', 'light red','web_site','book_jacket','packet','mud_turtle']]\n",
        "\n",
        "  #dataset for CNN model\n",
        "  X_cnn = df[['url']]\n",
        "  \n",
        "  #dataset for NLP model\n",
        "  X_bert = df['text']\n",
        "\n",
        "  print(\"Data preparation done.\\n\")\n",
        "\n",
        "  \"\"\"loading models\"\"\"\n",
        "  print(\"Loading models...\\n\")\n",
        "  #ML model\n",
        "  ml_model = pickle.load(open('/content/drive/MyDrive/Applied_ai/models/dankornot_ml/dankornot_ml.pkl', 'rb'))\n",
        "\n",
        "  #CNN model\n",
        "  cnn_model = load_model('/content/drive/MyDrive/Applied_ai/models/resnet_model/resnet_model.h5')\n",
        "\n",
        "  #bert model\n",
        "  bert_model = tf.saved_model.load('/content/drive/MyDrive/Applied_ai/models/bert_model/content/bert_model')\n",
        "  \n",
        "  \"\"\"Predictions\"\"\"\n",
        "  print(\"Predicting...\\n\")\n",
        "  \n",
        "  #predicting using ML model\n",
        "  ml_pred_prob = ml_model.predict_proba(X_ml)[:,-1]\n",
        "  \n",
        "  #predicting using CNN model\n",
        "  cnn_pred_prob = []\n",
        "  for image in X_cnn.url:\n",
        "    path = '/content/drive/MyDrive/Applied_ai/meme_images/'+image\n",
        "    img = Image.open(path)\n",
        "    pixels = np.asarray(img)\n",
        "    pixels = pixels.astype('float32')\n",
        "    pixels /= 255.0\n",
        "    pixels.resize(224,224,3)\n",
        "    pixels = np.expand_dims(pixels, axis=0)\n",
        "    cnn_prediction = cnn_model.predict(pixels)\n",
        "    cnn_pred_prob.append(cnn_prediction[0][0])\n",
        "  \n",
        "  #predicting using NLP model\n",
        "  nlp_pred_prob = []\n",
        "  for text in X_bert:\n",
        "    try:\n",
        "      bert_predict = tf.sigmoid(bert_model(tf.constant([text])))\n",
        "      nlp_pred_prob.append(np.array(bert_predict)[0][0])\n",
        "    except:\n",
        "      nlp_pred_prob.append(0)\n",
        "\n",
        "  #creating a dataset of all predicted probabilities\n",
        "  prob_pred_df = pd.DataFrame(columns = ['ml_pred','cnn_pred','nlp_pred'])\n",
        "  prob_pred_df['ml_pred'] = ml_pred_prob\n",
        "  prob_pred_df['cnn_pred'] = cnn_pred_prob\n",
        "  prob_pred_df['nlp_pred'] = nlp_pred_prob\n",
        "\n",
        "  #taking mean of predicted probabilities of each data and getting label according to that\n",
        "  mean_all = prob_pred_df.mean(axis=1)\n",
        "  label_all = mean_all.round().astype('int')\n",
        "\n",
        "  print(\"Done:)\")\n",
        "  #returning predicted labels\n",
        "  #return (np.array(label_all))\n",
        "  return np.array(label_all)\n"
      ],
      "execution_count": 18,
      "outputs": []
    },
    {
      "cell_type": "code",
      "metadata": {
        "id": "2aWTZprEslVU",
        "colab": {
          "base_uri": "https://localhost:8080/",
          "height": 0
        },
        "outputId": "d8918ae9-ba4d-4154-9fe6-ea3eca3d9311"
      },
      "source": [
        "#calling function_1\n",
        "predicted_labels = function_1(dataset.sample(25))\n",
        "print('\\nPredictiction : ', predicted_labels)"
      ],
      "execution_count": 20,
      "outputs": [
        {
          "output_type": "stream",
          "text": [
            "\r  0%|          | 0/25 [00:00<?, ?it/s]"
          ],
          "name": "stderr"
        },
        {
          "output_type": "stream",
          "text": [
            "\n",
            "\n",
            "Preparing data...\n",
            "\n"
          ],
          "name": "stdout"
        },
        {
          "output_type": "stream",
          "text": [
            "100%|██████████| 25/25 [00:57<00:00,  2.30s/it]\n"
          ],
          "name": "stderr"
        },
        {
          "output_type": "stream",
          "text": [
            "Data preparation done.\n",
            "\n",
            "Loading models...\n",
            "\n",
            "Predicting...\n",
            "\n",
            "Done:)\n",
            "\n",
            "Predictiction :  [0 1 1 1 1 1 0 1 1 1 1 0 1 1 0 1 0 1 0 0 0 1 0 1 1]\n"
          ],
          "name": "stdout"
        }
      ]
    },
    {
      "cell_type": "markdown",
      "metadata": {
        "id": "0Xd_Y9aOLXrZ"
      },
      "source": [
        "<br><br>\n",
        "\n",
        "# **Second Function**"
      ]
    },
    {
      "cell_type": "code",
      "metadata": {
        "id": "WbknPsqJSye6"
      },
      "source": [
        "def function_2(data):\n",
        "  \n",
        "  df = data\n",
        "  \n",
        "  #lists to store extracted data from image\n",
        "  img_text = []\n",
        "  avg_h = []\n",
        "  avg_s = []\n",
        "  avg_v = []\n",
        "  all_colors = []\n",
        "  width = []\n",
        "  height = []\n",
        "  img_feature_pred_1 = []\n",
        "  img_feature_pred_2 = []\n",
        "  img_feature_pred_3 = []\n",
        "  website = []\n",
        "  book_jacket = []\n",
        "  packet = []\n",
        "  mud_turtle = []\n",
        "\n",
        "  print(\"\\n\\nPreparing data...\\n\")\n",
        "  #extracting data from images\n",
        "  for url in tqdm(data['url'], position=0):\n",
        "\n",
        "    #extracting text\n",
        "    path = '/content/drive/MyDrive/Applied_ai/meme_images/'+url\n",
        "    im = io.imread(path)\n",
        "    im_t = cv2.cvtColor(im, cv2.COLOR_BGR2GRAY)\n",
        "    _, im_t = cv2.threshold(im_t, 127, 255, cv2.THRESH_BINARY) \n",
        "    custom_config = r\"--oem 3 --psm 11 -c tessedit_char_whitelist= 'ABCDEFGHIJKLMNOPQRSTUVWXYZ '\"\n",
        "    text = pytesseract.image_to_string(im_t, lang='eng', config=custom_config)\n",
        "    text = text.replace('\\n', ' ')\n",
        "\n",
        "    #cleaning text\n",
        "    text = re.sub('[^A-Za-z]',' ',text).lower()\n",
        "    words = nltk.word_tokenize(text)\n",
        "    stopWords = set(stopwords.words('english'))\n",
        "    words = [w for w in words if w not in stopWords and len(w)>3]\n",
        "    img_text.append(' '.join(words))\n",
        "\n",
        "    #extracting HSV\n",
        "    hsv = cv2.cvtColor(im, cv2.COLOR_BGR2HSV)\n",
        "    h,s,v = cv2.split(hsv)\n",
        "    avg_h.append(h.mean())\n",
        "    avg_s.append(s.mean())\n",
        "    avg_v.append(v.mean())\n",
        "\n",
        "    #extracting colors from image\n",
        "    num_pixel = im.shape[0] * im.shape[1]\n",
        "    hsv = cv2.cvtColor(im, cv2.COLOR_BGR2HSV)\n",
        "    clr_pixel = []\n",
        "\n",
        "    for (lower, upper) in boundries:\n",
        "      lower = np.array(lower, dtype = \"uint8\")\n",
        "      upper = np.array(upper, dtype = \"uint8\")\n",
        "      mask = cv2.inRange(hsv, lower, upper)\n",
        "      clr_pixel.append(round(((mask==255).sum())/num_pixel,5)) #counting and normalizing number of pixels\n",
        "\n",
        "    all_colors.append(clr_pixel)\n",
        "\n",
        "    #getting height and width of the image\n",
        "    hgt = im.shape[0]\n",
        "    wth = im.shape[1]\n",
        "    width.append(wth)\n",
        "    height.append(hgt)\n",
        "\n",
        "    #extracting objects from image using VGG16\n",
        "    pixels = np.asarray(im)\n",
        "    pixels = pixels.astype('float32')\n",
        "    pixels.resize(224,224,3)\n",
        "    pixels = np.expand_dims(pixels, axis=0)\n",
        "    pixels = preprocess_input(pixels)\n",
        "    im_prediction = img_feature_model.predict(pixels)\n",
        "    labels = decode_predictions(im_prediction, top=3)\n",
        "    \n",
        "    img_feature_pred_1.append(labels[0][0][2])\n",
        "    img_feature_pred_2.append(labels[0][1][2])\n",
        "    img_feature_pred_3.append(labels[0][2][2])\n",
        "\n",
        "    objects = [labels[0][0][1],labels[0][1][1],labels[0][2][1]]\n",
        "    for j in ['website','book_jacket','packet','mud_turtle']:\n",
        "        if j in objects:\n",
        "          exec(\"%s.append(%d)\" % (j,1))\n",
        "        else:\n",
        "          exec(\"%s.append(%d)\" % (j,0))\n",
        "\n",
        "\n",
        "  \"\"\"combining extracted features from images to the dataset\"\"\"\n",
        "  \n",
        "  #text data\n",
        "  df['text'] = img_text\n",
        "  \n",
        "  #feature containing number of words in text\n",
        "  df['num_words'] = df['text'].str.split().apply(len)\n",
        "\n",
        "  #getting sentiment score of the text data\n",
        "  df = sentiment.get_sentiment(pred_model, df, word_idx)\n",
        "\n",
        "  #getting HSV value\n",
        "  df['avg_h'] = avg_h\n",
        "  df['avg_s'] = avg_s\n",
        "  df['avg_v'] = avg_v\n",
        "\n",
        "  #colors\n",
        "  colors = ['white','black','gray','brown','off-white','dark red','light red','dark orange','light orange',\n",
        "          'goldish','yellow','dark green','dark cyan','cyan','dark blue','light blue','faded colors']\n",
        "  #adding new color features to the dataset\n",
        "  for i, color in enumerate(colors):\n",
        "    df[color] = np.matrix(all_colors)[:,i]\n",
        "\n",
        "  #thumbnail height and width\n",
        "  df['thumbnail_height'] = height\n",
        "  df['thumbnail_width']  = width\n",
        "\n",
        "  #probability of occurance of objects in the image\n",
        "  df['img_feature_pred_1'] = img_feature_pred_1\n",
        "  df['img_feature_pred_2'] = img_feature_pred_2\n",
        "  df['img_feature_pred_3'] = img_feature_pred_3\n",
        "\n",
        "  #objects in the image\n",
        "  df['web_site'] = website\n",
        "  df['book_jacket'] = book_jacket\n",
        "  df['packet'] = packet\n",
        "  df['mud_turtle'] = mud_turtle\n",
        "\n",
        "  \"\"\"Defining different features for our different models\"\"\"\n",
        "\n",
        "  #dataset for ML model\n",
        "  X_ml = df[['img_feature_pred_1','img_feature_pred_2','img_feature_pred_3','avg_h','avg_s','avg_v','Sentiment_Score','hour',\n",
        "    'num_words','thumbnail_height','thumbnail_width','gray', 'white', 'faded colors', 'black', 'dark blue', 'goldish',\n",
        "    'light blue', 'brown', 'yellow', 'dark cyan', 'light orange', 'dark green', 'cyan', 'off-white', 'dark red', \n",
        "    'dark orange', 'light red','web_site','book_jacket','packet','mud_turtle']]\n",
        "\n",
        "  #dataset for CNN model\n",
        "  X_cnn = df[['url']]\n",
        "  \n",
        "  #dataset for NLP model\n",
        "  X_bert = df['text']\n",
        "\n",
        "  print(\"\\nData preparation done.\\n\")\n",
        "\n",
        "  \"\"\"loading models\"\"\"\n",
        "  print(\"Loading models...\\n\")\n",
        "  #ML model\n",
        "  ml_model = pickle.load(open('/content/drive/MyDrive/Applied_ai/models/dankornot_ml/dankornot_ml.pkl', 'rb'))\n",
        "\n",
        "  #CNN model\n",
        "  cnn_model = load_model('/content/drive/MyDrive/Applied_ai/models/resnet_model/resnet_model.h5')\n",
        "\n",
        "  #bert model\n",
        "  bert_model = tf.saved_model.load('/content/drive/MyDrive/Applied_ai/models/bert_model/content/bert_model')\n",
        "\n",
        "  \"\"\"Predictions\"\"\"\n",
        "  print(\"Predicting labels...\\n\")\n",
        "  #predicting using ML model\n",
        "  ml_pred_prob = ml_model.predict_proba(X_ml)[:,-1]\n",
        "\n",
        "  #predicting using CNN model\n",
        "  cnn_pred_prob = []\n",
        "  for image in X_cnn.url:\n",
        "    path = '/content/drive/MyDrive/Applied_ai/meme_images/'+image\n",
        "    img = Image.open(path)\n",
        "    pixels = np.asarray(img)\n",
        "    pixels = pixels.astype('float32')\n",
        "    pixels /= 255.0\n",
        "    pixels.resize(224,224,3)\n",
        "    pixels = np.expand_dims(pixels, axis=0)\n",
        "    cnn_prediction = cnn_model.predict(pixels)\n",
        "    cnn_pred_prob.append(cnn_prediction[0][0])\n",
        "\n",
        "  #predicting using NLP model\n",
        "  nlp_pred_prob = []\n",
        "  for text in X_bert:\n",
        "    try:\n",
        "      bert_predict = tf.sigmoid(bert_model(tf.constant([text])))\n",
        "      nlp_pred_prob.append(np.array(bert_predict)[0][0])\n",
        "    except:\n",
        "      nlp_pred_prob.append(0)\n",
        "\n",
        "  #creating a dataset of all predicted probabilities\n",
        "  prob_pred_df = pd.DataFrame(columns = ['ml_pred','cnn_pred','nlp_pred'])\n",
        "  prob_pred_df['ml_pred'] = ml_pred_prob\n",
        "  prob_pred_df['cnn_pred'] = cnn_pred_prob\n",
        "  prob_pred_df['nlp_pred'] = nlp_pred_prob\n",
        "\n",
        "  #taking mean of predicted probabilities of each data and getting label according to that\n",
        "  mean_all = prob_pred_df.mean(axis=1)\n",
        "  label_all = mean_all.round().astype('int')\n",
        "\n",
        "  print(\"Prediction done\\n\")\n",
        "  print(\"Computing accuracy...\\n\")\n",
        "  accuracy = accuracy_score(df['dank_or_not'], label_all)\n",
        "  print(\"Done:)\")\n",
        "\n",
        "  #returning predicted labels\n",
        "  return(accuracy, label_all)\n"
      ],
      "execution_count": 9,
      "outputs": []
    },
    {
      "cell_type": "code",
      "metadata": {
        "id": "BVCg55P8HesA",
        "colab": {
          "base_uri": "https://localhost:8080/"
        },
        "outputId": "d1e6a140-9139-42b9-afb0-59e673237349"
      },
      "source": [
        "#calling function_2\n",
        "df_2 = dataset.sample(500)\n",
        "accuracy, labels = function_2(df_2)\n",
        "print('\\nAccuracy : ', accuracy)"
      ],
      "execution_count": 22,
      "outputs": [
        {
          "output_type": "stream",
          "text": [
            "\r  0%|          | 0/500 [00:00<?, ?it/s]"
          ],
          "name": "stderr"
        },
        {
          "output_type": "stream",
          "text": [
            "\n",
            "\n",
            "Preparing data...\n",
            "\n"
          ],
          "name": "stdout"
        },
        {
          "output_type": "stream",
          "text": [
            "100%|██████████| 500/500 [17:18<00:00,  2.08s/it]\n"
          ],
          "name": "stderr"
        },
        {
          "output_type": "stream",
          "text": [
            "\n",
            "Data preparation done.\n",
            "\n",
            "Loading models...\n",
            "\n",
            "Predicting labels...\n",
            "\n",
            "Prediction done\n",
            "\n",
            "Computing accuracy...\n",
            "\n",
            "Done:)\n",
            "\n",
            "Accuracy :  0.68\n"
          ],
          "name": "stdout"
        }
      ]
    },
    {
      "cell_type": "code",
      "metadata": {
        "id": "gM2VVQ28Hlm5",
        "colab": {
          "base_uri": "https://localhost:8080/",
          "height": 279
        },
        "outputId": "7c088600-400b-4a57-a8de-66b141ff7493"
      },
      "source": [
        "#plotting confusion matrix\n",
        "cm = confusion_matrix(df_2['dank_or_not'], labels)\n",
        "sns.heatmap(cm, annot=True, fmt='g')\n",
        "plt.xlabel('Predicted')\n",
        "plt.ylabel('Actual')\n",
        "plt.show()"
      ],
      "execution_count": 23,
      "outputs": [
        {
          "output_type": "display_data",
          "data": {
            "image/png": "[encoded data removed]",
            "text/plain": [
              "<Figure size 432x288 with 2 Axes>"
            ]
          },
          "metadata": {
            "tags": [],
            "needs_background": "light"
          }
        }
      ]
    }
  ]
}