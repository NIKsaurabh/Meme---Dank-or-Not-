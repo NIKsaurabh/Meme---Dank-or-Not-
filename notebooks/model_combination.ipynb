{
  "nbformat": 4,
  "nbformat_minor": 0,
  "metadata": {
    "colab": {
      "name": "Untitled0.ipynb",
      "provenance": [],
      "collapsed_sections": []
    },
    "kernelspec": {
      "name": "python3",
      "display_name": "Python 3"
    },
    "language_info": {
      "name": "python"
    }
  },
  "cells": [
    {
      "cell_type": "markdown",
      "metadata": {
        "id": "NL5tAlQF_E9m"
      },
      "source": [
        "In this notebook I am going to finalize, in which way should I use my models so that I get maximum performance. \n",
        "<br>\n",
        "Since we have three models one machine learning, one CNN model and one NLP model all trained on different data. So, we have to find a method to combine all models so that we get maximum performance."
      ]
    },
    {
      "cell_type": "code",
      "metadata": {
        "colab": {
          "base_uri": "https://localhost:8080/"
        },
        "id": "tbWn_vzy8Zop",
        "outputId": "4c5a50e6-70f9-4524-b757-ce806b7376bf"
      },
      "source": [
        "!pip install tensorflow-text"
      ],
      "execution_count": 2,
      "outputs": [
        {
          "output_type": "stream",
          "text": [
            "Collecting tensorflow-text\n",
            "\u001b[?25l  Downloading https://files.pythonhosted.org/packages/c0/ed/bbb51e9eccca0c2bfdf9df66e54cdff563b6f32daed9255da9b9a541368f/tensorflow_text-2.5.0-cp37-cp37m-manylinux1_x86_64.whl (4.3MB)\n",
            "\u001b[K     |████████████████████████████████| 4.3MB 8.4MB/s \n",
            "\u001b[?25hRequirement already satisfied: tensorflow<2.6,>=2.5.0 in /usr/local/lib/python3.7/dist-packages (from tensorflow-text) (2.5.0)\n",
            "Requirement already satisfied: tensorflow-hub>=0.8.0 in /usr/local/lib/python3.7/dist-packages (from tensorflow-text) (0.12.0)\n",
            "Requirement already satisfied: h5py~=3.1.0 in /usr/local/lib/python3.7/dist-packages (from tensorflow<2.6,>=2.5.0->tensorflow-text) (3.1.0)\n",
            "Requirement already satisfied: opt-einsum~=3.3.0 in /usr/local/lib/python3.7/dist-packages (from tensorflow<2.6,>=2.5.0->tensorflow-text) (3.3.0)\n",
            "Requirement already satisfied: flatbuffers~=1.12.0 in /usr/local/lib/python3.7/dist-packages (from tensorflow<2.6,>=2.5.0->tensorflow-text) (1.12)\n",
            "Requirement already satisfied: tensorflow-estimator<2.6.0,>=2.5.0rc0 in /usr/local/lib/python3.7/dist-packages (from tensorflow<2.6,>=2.5.0->tensorflow-text) (2.5.0)\n",
            "Requirement already satisfied: absl-py~=0.10 in /usr/local/lib/python3.7/dist-packages (from tensorflow<2.6,>=2.5.0->tensorflow-text) (0.12.0)\n",
            "Requirement already satisfied: astunparse~=1.6.3 in /usr/local/lib/python3.7/dist-packages (from tensorflow<2.6,>=2.5.0->tensorflow-text) (1.6.3)\n",
            "Requirement already satisfied: typing-extensions~=3.7.4 in /usr/local/lib/python3.7/dist-packages (from tensorflow<2.6,>=2.5.0->tensorflow-text) (3.7.4.3)\n",
            "Requirement already satisfied: protobuf>=3.9.2 in /usr/local/lib/python3.7/dist-packages (from tensorflow<2.6,>=2.5.0->tensorflow-text) (3.12.4)\n",
            "Requirement already satisfied: wheel~=0.35 in /usr/local/lib/python3.7/dist-packages (from tensorflow<2.6,>=2.5.0->tensorflow-text) (0.36.2)\n",
            "Requirement already satisfied: tensorboard~=2.5 in /usr/local/lib/python3.7/dist-packages (from tensorflow<2.6,>=2.5.0->tensorflow-text) (2.5.0)\n",
            "Requirement already satisfied: termcolor~=1.1.0 in /usr/local/lib/python3.7/dist-packages (from tensorflow<2.6,>=2.5.0->tensorflow-text) (1.1.0)\n",
            "Requirement already satisfied: grpcio~=1.34.0 in /usr/local/lib/python3.7/dist-packages (from tensorflow<2.6,>=2.5.0->tensorflow-text) (1.34.1)\n",
            "Requirement already satisfied: gast==0.4.0 in /usr/local/lib/python3.7/dist-packages (from tensorflow<2.6,>=2.5.0->tensorflow-text) (0.4.0)\n",
            "Requirement already satisfied: wrapt~=1.12.1 in /usr/local/lib/python3.7/dist-packages (from tensorflow<2.6,>=2.5.0->tensorflow-text) (1.12.1)\n",
            "Requirement already satisfied: google-pasta~=0.2 in /usr/local/lib/python3.7/dist-packages (from tensorflow<2.6,>=2.5.0->tensorflow-text) (0.2.0)\n",
            "Requirement already satisfied: numpy~=1.19.2 in /usr/local/lib/python3.7/dist-packages (from tensorflow<2.6,>=2.5.0->tensorflow-text) (1.19.5)\n",
            "Requirement already satisfied: keras-preprocessing~=1.1.2 in /usr/local/lib/python3.7/dist-packages (from tensorflow<2.6,>=2.5.0->tensorflow-text) (1.1.2)\n",
            "Requirement already satisfied: keras-nightly~=2.5.0.dev in /usr/local/lib/python3.7/dist-packages (from tensorflow<2.6,>=2.5.0->tensorflow-text) (2.5.0.dev2021032900)\n",
            "Requirement already satisfied: six~=1.15.0 in /usr/local/lib/python3.7/dist-packages (from tensorflow<2.6,>=2.5.0->tensorflow-text) (1.15.0)\n",
            "Requirement already satisfied: cached-property; python_version < \"3.8\" in /usr/local/lib/python3.7/dist-packages (from h5py~=3.1.0->tensorflow<2.6,>=2.5.0->tensorflow-text) (1.5.2)\n",
            "Requirement already satisfied: setuptools in /usr/local/lib/python3.7/dist-packages (from protobuf>=3.9.2->tensorflow<2.6,>=2.5.0->tensorflow-text) (57.0.0)\n",
            "Requirement already satisfied: werkzeug>=0.11.15 in /usr/local/lib/python3.7/dist-packages (from tensorboard~=2.5->tensorflow<2.6,>=2.5.0->tensorflow-text) (1.0.1)\n",
            "Requirement already satisfied: google-auth<2,>=1.6.3 in /usr/local/lib/python3.7/dist-packages (from tensorboard~=2.5->tensorflow<2.6,>=2.5.0->tensorflow-text) (1.31.0)\n",
            "Requirement already satisfied: markdown>=2.6.8 in /usr/local/lib/python3.7/dist-packages (from tensorboard~=2.5->tensorflow<2.6,>=2.5.0->tensorflow-text) (3.3.4)\n",
            "Requirement already satisfied: tensorboard-plugin-wit>=1.6.0 in /usr/local/lib/python3.7/dist-packages (from tensorboard~=2.5->tensorflow<2.6,>=2.5.0->tensorflow-text) (1.8.0)\n",
            "Requirement already satisfied: google-auth-oauthlib<0.5,>=0.4.1 in /usr/local/lib/python3.7/dist-packages (from tensorboard~=2.5->tensorflow<2.6,>=2.5.0->tensorflow-text) (0.4.4)\n",
            "Requirement already satisfied: requests<3,>=2.21.0 in /usr/local/lib/python3.7/dist-packages (from tensorboard~=2.5->tensorflow<2.6,>=2.5.0->tensorflow-text) (2.23.0)\n",
            "Requirement already satisfied: tensorboard-data-server<0.7.0,>=0.6.0 in /usr/local/lib/python3.7/dist-packages (from tensorboard~=2.5->tensorflow<2.6,>=2.5.0->tensorflow-text) (0.6.1)\n",
            "Requirement already satisfied: pyasn1-modules>=0.2.1 in /usr/local/lib/python3.7/dist-packages (from google-auth<2,>=1.6.3->tensorboard~=2.5->tensorflow<2.6,>=2.5.0->tensorflow-text) (0.2.8)\n",
            "Requirement already satisfied: cachetools<5.0,>=2.0.0 in /usr/local/lib/python3.7/dist-packages (from google-auth<2,>=1.6.3->tensorboard~=2.5->tensorflow<2.6,>=2.5.0->tensorflow-text) (4.2.2)\n",
            "Requirement already satisfied: rsa<5,>=3.1.4; python_version >= \"3.6\" in /usr/local/lib/python3.7/dist-packages (from google-auth<2,>=1.6.3->tensorboard~=2.5->tensorflow<2.6,>=2.5.0->tensorflow-text) (4.7.2)\n",
            "Requirement already satisfied: importlib-metadata; python_version < \"3.8\" in /usr/local/lib/python3.7/dist-packages (from markdown>=2.6.8->tensorboard~=2.5->tensorflow<2.6,>=2.5.0->tensorflow-text) (4.5.0)\n",
            "Requirement already satisfied: requests-oauthlib>=0.7.0 in /usr/local/lib/python3.7/dist-packages (from google-auth-oauthlib<0.5,>=0.4.1->tensorboard~=2.5->tensorflow<2.6,>=2.5.0->tensorflow-text) (1.3.0)\n",
            "Requirement already satisfied: certifi>=2017.4.17 in /usr/local/lib/python3.7/dist-packages (from requests<3,>=2.21.0->tensorboard~=2.5->tensorflow<2.6,>=2.5.0->tensorflow-text) (2021.5.30)\n",
            "Requirement already satisfied: idna<3,>=2.5 in /usr/local/lib/python3.7/dist-packages (from requests<3,>=2.21.0->tensorboard~=2.5->tensorflow<2.6,>=2.5.0->tensorflow-text) (2.10)\n",
            "Requirement already satisfied: chardet<4,>=3.0.2 in /usr/local/lib/python3.7/dist-packages (from requests<3,>=2.21.0->tensorboard~=2.5->tensorflow<2.6,>=2.5.0->tensorflow-text) (3.0.4)\n",
            "Requirement already satisfied: urllib3!=1.25.0,!=1.25.1,<1.26,>=1.21.1 in /usr/local/lib/python3.7/dist-packages (from requests<3,>=2.21.0->tensorboard~=2.5->tensorflow<2.6,>=2.5.0->tensorflow-text) (1.24.3)\n",
            "Requirement already satisfied: pyasn1<0.5.0,>=0.4.6 in /usr/local/lib/python3.7/dist-packages (from pyasn1-modules>=0.2.1->google-auth<2,>=1.6.3->tensorboard~=2.5->tensorflow<2.6,>=2.5.0->tensorflow-text) (0.4.8)\n",
            "Requirement already satisfied: zipp>=0.5 in /usr/local/lib/python3.7/dist-packages (from importlib-metadata; python_version < \"3.8\"->markdown>=2.6.8->tensorboard~=2.5->tensorflow<2.6,>=2.5.0->tensorflow-text) (3.4.1)\n",
            "Requirement already satisfied: oauthlib>=3.0.0 in /usr/local/lib/python3.7/dist-packages (from requests-oauthlib>=0.7.0->google-auth-oauthlib<0.5,>=0.4.1->tensorboard~=2.5->tensorflow<2.6,>=2.5.0->tensorflow-text) (3.1.1)\n",
            "Installing collected packages: tensorflow-text\n",
            "Successfully installed tensorflow-text-2.5.0\n"
          ],
          "name": "stdout"
        }
      ]
    },
    {
      "cell_type": "code",
      "metadata": {
        "id": "LLvUuWViVfXz"
      },
      "source": [
        "#importing libraries\n",
        "import pandas as pd\n",
        "import numpy as np\n",
        "from numpy import asarray\n",
        "from tqdm import tqdm\n",
        "import matplotlib.pyplot as plt\n",
        "import seaborn as sns\n",
        "\n",
        "import pickle\n",
        "import os\n",
        "from PIL import Image\n",
        "\n",
        "from sklearn.metrics import accuracy_score\n",
        "from sklearn.metrics import confusion_matrix\n",
        "\n",
        "import tensorflow as tf\n",
        "from keras.models import load_model\n",
        "import tensorflow_text as text\n",
        "from tensorflow.keras.preprocessing.image import ImageDataGenerator\n",
        "import warnings\n",
        "warnings.filterwarnings(\"ignore\")"
      ],
      "execution_count": 3,
      "outputs": []
    },
    {
      "cell_type": "code",
      "metadata": {
        "colab": {
          "base_uri": "https://localhost:8080/"
        },
        "id": "dVCJst1UVwAd",
        "outputId": "42d10822-7677-4e5f-a46b-6888c37cb50c"
      },
      "source": [
        "from google.colab import drive\n",
        "drive.mount('/content/drive')"
      ],
      "execution_count": 4,
      "outputs": [
        {
          "output_type": "stream",
          "text": [
            "Mounted at /content/drive\n"
          ],
          "name": "stdout"
        }
      ]
    },
    {
      "cell_type": "code",
      "metadata": {
        "id": "jie9zlEnV4UX"
      },
      "source": [
        "#loading the dataset\n",
        "df = pd.read_csv('/content/drive/MyDrive/Applied_ai/test dataset/test_dataset.csv')"
      ],
      "execution_count": 14,
      "outputs": []
    },
    {
      "cell_type": "code",
      "metadata": {
        "colab": {
          "base_uri": "https://localhost:8080/"
        },
        "id": "I1RZVxmg8CG0",
        "outputId": "1d9a86ae-7f58-4907-8b06-a415b2cf300e"
      },
      "source": [
        "df.shape"
      ],
      "execution_count": 15,
      "outputs": [
        {
          "output_type": "execute_result",
          "data": {
            "text/plain": [
              "(4984, 68)"
            ]
          },
          "metadata": {
            "tags": []
          },
          "execution_count": 15
        }
      ]
    },
    {
      "cell_type": "code",
      "metadata": {
        "id": "5Oi1IfrzXUen"
      },
      "source": [
        "'''\n",
        "during object detection in image I have exteacted 3 objects with their respective probabilities. The probability values\n",
        "are stored in a list and list is in the form of string. SO I am going to convert them back to list and will make three\n",
        "different features for these probabilities.\n",
        "'''\n",
        "\n",
        "#converting lists of string type to list\n",
        "from ast import literal_eval\n",
        "df['img_feature_pred'] = df['img_feature_pred'].apply(literal_eval)"
      ],
      "execution_count": 16,
      "outputs": []
    },
    {
      "cell_type": "code",
      "metadata": {
        "id": "E_AlYRuJXWea"
      },
      "source": [
        "#getting probabitity values in three different lists to make them as seperate features\n",
        "img_feature_pred_1 = []\n",
        "img_feature_pred_2 = []\n",
        "img_feature_pred_3 = []\n",
        "for i in df['img_feature_pred']:\n",
        "  img_feature_pred_1.append(i[0])\n",
        "  img_feature_pred_2.append(i[1])\n",
        "  img_feature_pred_3.append(i[2])"
      ],
      "execution_count": 17,
      "outputs": []
    },
    {
      "cell_type": "code",
      "metadata": {
        "id": "-lSTFi9oXWh5"
      },
      "source": [
        "#creating features for probability values\n",
        "df['img_feature_pred_1'] = img_feature_pred_1\n",
        "df['img_feature_pred_2'] = img_feature_pred_2\n",
        "df['img_feature_pred_3'] = img_feature_pred_3"
      ],
      "execution_count": 18,
      "outputs": []
    },
    {
      "cell_type": "code",
      "metadata": {
        "id": "xqk4yP4TYC3b"
      },
      "source": [
        "y = df['dank_or_not']\n",
        "X = df.drop(['dank_or_not'], axis=1)"
      ],
      "execution_count": 19,
      "outputs": []
    },
    {
      "cell_type": "markdown",
      "metadata": {
        "id": "03VgCjYbXktW"
      },
      "source": [
        "Since our project is to predict the dankness of the meme and it will be done before posting the meme on social networking sites. So, before posting data such as num_comments, upvote_ratio, score etc will not be available for the post and also it will be good if we predict the dankness of memes irrespective of subscribers count on the page. So, I am going to drop those features."
      ]
    },
    {
      "cell_type": "code",
      "metadata": {
        "id": "aiR5S6RWXWlN"
      },
      "source": [
        "#dropping features as discussed above\n",
        "df.drop(['img_feature_pred','is_original_content','num_comments','upvote_ratio','score','subreddit_subscribers'], axis=1, inplace=True)"
      ],
      "execution_count": 8,
      "outputs": []
    },
    {
      "cell_type": "markdown",
      "metadata": {
        "id": "bny-gTQ08Hzw"
      },
      "source": [
        "<br>\n",
        "\n",
        "## Seperating datasets to predict from different models"
      ]
    },
    {
      "cell_type": "code",
      "metadata": {
        "id": "SJypOEKJWThT"
      },
      "source": [
        "#Dataset for machine learning model\n",
        "X_ml = X[['img_feature_pred_1','img_feature_pred_2','img_feature_pred_3','avg_h','avg_s','avg_v','sentiment_score','hour',\n",
        "    'num_words','thumbnail_height','thumbnail_width','gray', 'white', 'faded colors', 'black', 'dark blue', 'goldish',\n",
        "    'light blue', 'brown', 'yellow', 'dark cyan', 'light orange', 'dark green', 'cyan', 'off-white', 'dark red', \n",
        "    'dark orange', 'light red','web_site','book_jacket','packet','mud_turtle']]"
      ],
      "execution_count": 9,
      "outputs": []
    },
    {
      "cell_type": "code",
      "metadata": {
        "id": "70D-mk51XGFM"
      },
      "source": [
        "#dataset for CNN model\n",
        "X_cnn = df[['url']]\n",
        "X_cnn.url = X_cnn.url.str.split('/').str[-1] + ('.png')\n",
        "X_cnn = pd.DataFrame(X_cnn)"
      ],
      "execution_count": 19,
      "outputs": []
    },
    {
      "cell_type": "code",
      "metadata": {
        "id": "OQAhdoI8a1ot"
      },
      "source": [
        "#dataset for NLP model\n",
        "X_bert = df['text']"
      ],
      "execution_count": 12,
      "outputs": []
    },
    {
      "cell_type": "markdown",
      "metadata": {
        "id": "eWEl2Ype8d24"
      },
      "source": [
        "<br>\n",
        "\n",
        "## Loading models"
      ]
    },
    {
      "cell_type": "code",
      "metadata": {
        "id": "DroPv0hhbY2C"
      },
      "source": [
        "#ML model\n",
        "ml_model = pickle.load(open('/content/drive/MyDrive/Applied_ai/models/dankornot_ml/dankornot_ml.pkl', 'rb'))"
      ],
      "execution_count": 13,
      "outputs": []
    },
    {
      "cell_type": "code",
      "metadata": {
        "id": "i4qWVFRcknKL"
      },
      "source": [
        "#CNN model\n",
        "cnn_model = load_model('/content/drive/MyDrive/Applied_ai/models/resnet_model/resnet_model.h5')"
      ],
      "execution_count": 14,
      "outputs": []
    },
    {
      "cell_type": "code",
      "metadata": {
        "id": "yuJJbdXCrLKq"
      },
      "source": [
        "#bert model\n",
        "bert_model = tf.saved_model.load('/content/drive/MyDrive/Applied_ai/models/bert_model/content/bert_model')"
      ],
      "execution_count": 15,
      "outputs": []
    },
    {
      "cell_type": "markdown",
      "metadata": {
        "id": "LcSs0guz8jSH"
      },
      "source": [
        "<br>\n",
        "\n",
        "## **Predictions**"
      ]
    },
    {
      "cell_type": "markdown",
      "metadata": {
        "id": "LJkK-HwK96fa"
      },
      "source": [
        "### Predicting using ML model"
      ]
    },
    {
      "cell_type": "code",
      "metadata": {
        "id": "z5tlgO5RkBt2"
      },
      "source": [
        "ml_pred_prob = ml_model.predict_proba(X_ml)[:,-1]\n",
        "ml_pred = ml_model.predict(X_ml)"
      ],
      "execution_count": 16,
      "outputs": []
    },
    {
      "cell_type": "markdown",
      "metadata": {
        "id": "ieh-oiHF-Arc"
      },
      "source": [
        "### Predicting using CNN model"
      ]
    },
    {
      "cell_type": "code",
      "metadata": {
        "colab": {
          "base_uri": "https://localhost:8080/",
          "height": 0
        },
        "id": "SKpad7DaaRdS",
        "outputId": "223565dd-4f47-413d-b783-b96677718e8f"
      },
      "source": [
        "#Reference : https://machinelearningmastery.com/how-to-manually-scale-image-pixel-data-for-deep-learning/\n",
        "cnn_pred_prob = []\n",
        "for image in tqdm(X_cnn.url, position=0):\n",
        "  path = '/content/drive/MyDrive/Applied_ai/meme_images/'+image\n",
        "  img = Image.open(path)\n",
        "  pixels = asarray(img)\n",
        "  pixels = pixels.astype('float32')\n",
        "  pixels /= 255.0\n",
        "  pixels.resize(224,224,3)\n",
        "  pixels = np.expand_dims(pixels, axis=0)\n",
        "  cnn_prediction = cnn_model.predict(pixels)\n",
        "  cnn_pred_prob.append(cnn_prediction[0][0])"
      ],
      "execution_count": 21,
      "outputs": [
        {
          "output_type": "stream",
          "text": [
            "100%|██████████| 4984/4984 [1:01:41<00:00,  2.13it/s]\n",
            "100%|██████████| 4984/4984 [1:01:41<00:00,  1.35it/s]\n"
          ],
          "name": "stderr"
        }
      ]
    },
    {
      "cell_type": "code",
      "metadata": {
        "id": "BXjMDxrTAE57"
      },
      "source": [
        "cnn_pred = np.array(cnn_pred_prob).round().astype('int')"
      ],
      "execution_count": 24,
      "outputs": []
    },
    {
      "cell_type": "markdown",
      "metadata": {
        "id": "5YATJz0Z-HAn"
      },
      "source": [
        "### Predicting using NLP model"
      ]
    },
    {
      "cell_type": "code",
      "metadata": {
        "colab": {
          "base_uri": "https://localhost:8080/",
          "height": 0
        },
        "id": "qMIO_BxXoLpp",
        "outputId": "cf886f02-2e5f-45b9-d9bf-9b3827901983"
      },
      "source": [
        "nlp_pred_prob = []\n",
        "for text in tqdm(X_bert, position=0):\n",
        "  try:\n",
        "    bert_predict = tf.sigmoid(bert_model(tf.constant([text])))\n",
        "    nlp_pred_prob.append(np.array(bert_predict)[0][0])\n",
        "  except:\n",
        "    nlp_pred_prob.append(0)"
      ],
      "execution_count": 28,
      "outputs": [
        {
          "output_type": "stream",
          "text": [
            "100%|██████████| 4984/4984 [00:35<00:00, 141.98it/s]\n"
          ],
          "name": "stderr"
        }
      ]
    },
    {
      "cell_type": "code",
      "metadata": {
        "id": "P2VnMojy4V_Y"
      },
      "source": [
        "nlp_pred = np.array(nlp_pred_prob).round().astype('int')"
      ],
      "execution_count": 31,
      "outputs": []
    },
    {
      "cell_type": "markdown",
      "metadata": {
        "id": "xY7j3Qe1Hmfc"
      },
      "source": [
        "## Creating a dataset of predicted probabilities values"
      ]
    },
    {
      "cell_type": "code",
      "metadata": {
        "id": "i9WlbszqHxfk"
      },
      "source": [
        "prob_pred_df = pd.DataFrame(columns = ['ml_pred','cnn_pred','nlp_pred'])"
      ],
      "execution_count": 33,
      "outputs": []
    },
    {
      "cell_type": "code",
      "metadata": {
        "id": "MeVrKBGAI4kZ"
      },
      "source": [
        "prob_pred_df['ml_pred'] = ml_pred_prob\n",
        "prob_pred_df['cnn_pred'] = cnn_pred_prob\n",
        "prob_pred_df['nlp_pred'] = nlp_pred_prob"
      ],
      "execution_count": 34,
      "outputs": []
    },
    {
      "cell_type": "markdown",
      "metadata": {
        "id": "ggVKUk35JkIo"
      },
      "source": [
        "## Creating a dataset of predicted labels"
      ]
    },
    {
      "cell_type": "code",
      "metadata": {
        "id": "AmDz5pOTJr6P"
      },
      "source": [
        "pred_df = pd.DataFrame(columns = ['ml_pred','cnn_pred','nlp_pred'])"
      ],
      "execution_count": 35,
      "outputs": []
    },
    {
      "cell_type": "code",
      "metadata": {
        "id": "GVz78lP2JzXO"
      },
      "source": [
        "pred_df['ml_pred'] = ml_pred\n",
        "pred_df['cnn_pred'] = cnn_pred\n",
        "pred_df['nlp_pred'] = nlp_pred"
      ],
      "execution_count": 36,
      "outputs": []
    },
    {
      "cell_type": "markdown",
      "metadata": {
        "id": "Ujh7lDClRcUW"
      },
      "source": [
        "### Performance of models by taking mean of probability values.\n",
        "<br>\n",
        "Here I am going to combine all the three models by taking the mean of probability values predicted by them for each data. According to that mean value I will get predicted labels and compare these labes with original labels."
      ]
    },
    {
      "cell_type": "code",
      "metadata": {
        "id": "anIpphQ_QZIJ"
      },
      "source": [
        "prob_pred_df = pd.read_csv('/content/drive/MyDrive/Applied_ai/datasets/prob_pred_df')\n",
        "pred_df = pd.read_csv('/content/drive/MyDrive/Applied_ai/datasets/pred_df')"
      ],
      "execution_count": 8,
      "outputs": []
    },
    {
      "cell_type": "code",
      "metadata": {
        "id": "xJlUwCUEQ4mO"
      },
      "source": [
        "mean_all = prob_pred_df.mean(axis=1)\n",
        "mean_ml_cnn = prob_pred_df[['ml_pred','cnn_pred']].mean(axis=1)\n",
        "mean_cnn_nlp = prob_pred_df[['cnn_pred','nlp_pred']].mean(axis=1)\n",
        "mean_nlp_ml = prob_pred_df[['nlp_pred','ml_pred']].mean(axis=1)"
      ],
      "execution_count": 10,
      "outputs": []
    },
    {
      "cell_type": "code",
      "metadata": {
        "id": "RteENBs6Rzg0"
      },
      "source": [
        "label_all = mean_all.round().astype('int')\n",
        "label_ml_cnn = mean_ml_cnn.round().astype('int')\n",
        "label_cnn_nlp = mean_cnn_nlp.round().astype('int')\n",
        "label_nlp_ml = mean_nlp_ml.round().astype('int')"
      ],
      "execution_count": 21,
      "outputs": []
    },
    {
      "cell_type": "code",
      "metadata": {
        "colab": {
          "base_uri": "https://localhost:8080/"
        },
        "id": "oWyUijUcTtfp",
        "outputId": "911f6555-1598-452d-8efe-637592cdd6f4"
      },
      "source": [
        "print('Accuracy all : ', accuracy_score(label_all, y))\n",
        "print('Accuracy ml_cnn : ', accuracy_score(label_ml_cnn, y))\n",
        "print('Accuracy cnn_nlp : ', accuracy_score(label_cnn_nlp, y))\n",
        "print('Accuracy nlp_ml : ', accuracy_score(label_nlp_ml, y))"
      ],
      "execution_count": 22,
      "outputs": [
        {
          "output_type": "stream",
          "text": [
            "Accuracy all :  0.791131621187801\n",
            "Accuracy ml_cnn :  0.8802166934189406\n",
            "Accuracy cnn_nlp :  0.4871589085072231\n",
            "Accuracy nlp_ml :  0.7375601926163724\n"
          ],
          "name": "stdout"
        }
      ]
    },
    {
      "cell_type": "code",
      "metadata": {
        "colab": {
          "base_uri": "https://localhost:8080/",
          "height": 279
        },
        "id": "eFwdNbyVTvhz",
        "outputId": "1ab349bd-39d7-4e9b-ced1-006aad1c629f"
      },
      "source": [
        "#plotting confusion matrix\n",
        "cm = confusion_matrix(prob_pred_df['label'], y)\n",
        "sns.heatmap(cm, annot=True, fmt='g')\n",
        "plt.xlabel('Predicted')\n",
        "plt.ylabel('Actual')\n",
        "plt.show()"
      ],
      "execution_count": 51,
      "outputs": [
        {
          "output_type": "display_data",
          "data": {
            "image/png": "[encoded data removed]",
            "text/plain": [
              "<Figure size 432x288 with 2 Axes>"
            ]
          },
          "metadata": {
            "tags": [],
            "needs_background": "light"
          }
        }
      ]
    },
    {
      "cell_type": "markdown",
      "metadata": {
        "id": "RZEVRbFfVTSR"
      },
      "source": [
        "### Performance of models by taking mode of labels.\n",
        "<br>\n",
        "Here I am going to take the mode of labels predicted by each model and that mode will be our final prediced label by all models. Then I will compare this mode with original target value."
      ]
    },
    {
      "cell_type": "code",
      "metadata": {
        "id": "htqRdzCaU4H7"
      },
      "source": [
        "mode_all = pred_df.mode(axis=1)"
      ],
      "execution_count": 36,
      "outputs": []
    },
    {
      "cell_type": "code",
      "metadata": {
        "colab": {
          "base_uri": "https://localhost:8080/"
        },
        "id": "ch3phllbWflx",
        "outputId": "998470f6-404d-4c94-e759-eeb7e42ef555"
      },
      "source": [
        "print('Accuracy : ', accuracy_score(mode_all, y))"
      ],
      "execution_count": 38,
      "outputs": [
        {
          "output_type": "stream",
          "text": [
            "Accuracy :  0.7935393258426966\n"
          ],
          "name": "stdout"
        }
      ]
    },
    {
      "cell_type": "code",
      "metadata": {
        "colab": {
          "base_uri": "https://localhost:8080/",
          "height": 279
        },
        "id": "kkn-5YvvWiXJ",
        "outputId": "01b04ae7-a0aa-42fb-d3e8-0fa2d35e124d"
      },
      "source": [
        "#plotting confusion matrix\n",
        "cm_p = confusion_matrix(mode_all, y)\n",
        "sns.heatmap(cm_p, annot=True, fmt='g')\n",
        "plt.xlabel('Predicted')\n",
        "plt.ylabel('Actual')\n",
        "plt.show()"
      ],
      "execution_count": 39,
      "outputs": [
        {
          "output_type": "display_data",
          "data": {
            "image/png": "[encoded data removed]",
            "text/plain": [
              "<Figure size 432x288 with 2 Axes>"
            ]
          },
          "metadata": {
            "tags": [],
            "needs_background": "light"
          }
        }
      ]
    },
    {
      "cell_type": "markdown",
      "metadata": {
        "id": "CxzIpsENXOuP"
      },
      "source": [
        "### Passing predicted probabilities to a machine learning algorithm.\n",
        "<br>\n",
        "Here I am going to train a machine learning model using probabilities values."
      ]
    },
    {
      "cell_type": "code",
      "metadata": {
        "id": "zs9tFl1eW-w8"
      },
      "source": [
        "#using logistic regression\n",
        "from sklearn.linear_model import LogisticRegression\n",
        "from sklearn.model_selection import GridSearchCV"
      ],
      "execution_count": 59,
      "outputs": []
    },
    {
      "cell_type": "code",
      "metadata": {
        "id": "Cd1J4_tKbTEJ"
      },
      "source": [
        "params = {'max_iter' : [100,500,1000,2000]}"
      ],
      "execution_count": 60,
      "outputs": []
    },
    {
      "cell_type": "code",
      "metadata": {
        "id": "V8GL3QK3bfU8"
      },
      "source": [
        "lr = LogisticRegression()\n",
        "clf = GridSearchCV(lr, param_grid=params, scoring='accuracy', cv=5, return_train_score=True)"
      ],
      "execution_count": 68,
      "outputs": []
    },
    {
      "cell_type": "code",
      "metadata": {
        "id": "HZzqEShxd9T5"
      },
      "source": [
        "X = prob_pred_df[['ml_pred', 'cnn_pred', 'nlp_pred']]\n",
        "y = y"
      ],
      "execution_count": 69,
      "outputs": []
    },
    {
      "cell_type": "code",
      "metadata": {
        "colab": {
          "base_uri": "https://localhost:8080/",
          "height": 0
        },
        "id": "l-jpLHfWeAan",
        "outputId": "b49da8c5-917d-4059-bfa4-b98dbeecd4b1"
      },
      "source": [
        "#training the model\n",
        "clf.fit(X, y)"
      ],
      "execution_count": 70,
      "outputs": [
        {
          "output_type": "execute_result",
          "data": {
            "text/plain": [
              "GridSearchCV(cv=5, error_score=nan,\n",
              "             estimator=LogisticRegression(C=1.0, class_weight=None, dual=False,\n",
              "                                          fit_intercept=True,\n",
              "                                          intercept_scaling=1, l1_ratio=None,\n",
              "                                          max_iter=100, multi_class='auto',\n",
              "                                          n_jobs=None, penalty='l2',\n",
              "                                          random_state=None, solver='lbfgs',\n",
              "                                          tol=0.0001, verbose=0,\n",
              "                                          warm_start=False),\n",
              "             iid='deprecated', n_jobs=None,\n",
              "             param_grid={'max_iter': [100, 500, 1000, 2000]},\n",
              "             pre_dispatch='2*n_jobs', refit=True, return_train_score=True,\n",
              "             scoring='accuracy', verbose=0)"
            ]
          },
          "metadata": {
            "tags": []
          },
          "execution_count": 70
        }
      ]
    },
    {
      "cell_type": "code",
      "metadata": {
        "colab": {
          "base_uri": "https://localhost:8080/",
          "height": 0
        },
        "id": "0tz_YcN5eUVE",
        "outputId": "8ab337a9-c83a-4702-fee1-7a3d973f3618"
      },
      "source": [
        "print('logistic regression cv train score : ',clf.cv_results_['mean_train_score'].mean())"
      ],
      "execution_count": 76,
      "outputs": [
        {
          "output_type": "stream",
          "text": [
            "logistic regression cv train score :  0.8897473332966042\n"
          ],
          "name": "stdout"
        }
      ]
    },
    {
      "cell_type": "code",
      "metadata": {
        "colab": {
          "base_uri": "https://localhost:8080/",
          "height": 0
        },
        "id": "6cMNG8PSeZGJ",
        "outputId": "5f404b45-6057-452a-9367-b69510dea8e4"
      },
      "source": [
        "print('logistic regression cv test score : ',clf.cv_results_['mean_test_score'].mean())"
      ],
      "execution_count": 77,
      "outputs": [
        {
          "output_type": "stream",
          "text": [
            "logistic regression cv test score :  0.8902508731012315\n"
          ],
          "name": "stdout"
        }
      ]
    },
    {
      "cell_type": "markdown",
      "metadata": {
        "id": "_nCxfavCkj28"
      },
      "source": [
        "From all the three methods we can see that logistic regression is giving the highest accuracy than the mean and mode method. But we have very less data to train the machine learning model so, in this case mean and mode method looks more promising.<br>\n",
        "Mean and mode methods are giving same accuracy, So I am going to use mean of probabilities predicted by all the three models."
      ]
    }
  ]
}